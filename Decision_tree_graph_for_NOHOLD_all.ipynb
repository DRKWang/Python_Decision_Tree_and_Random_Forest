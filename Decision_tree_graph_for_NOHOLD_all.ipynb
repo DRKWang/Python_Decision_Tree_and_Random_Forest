{
 "cells": [
  {
   "cell_type": "code",
   "execution_count": 1,
   "id": "13f11a1f-12e3-47a0-8a0b-d42e3d1e6189",
   "metadata": {},
   "outputs": [],
   "source": [
    "# Importing necessary modules\n",
    "\n",
    "import sklearn.datasets as datasets\n",
    "from sklearn.tree import DecisionTreeClassifier \n",
    "from sklearn import tree\n",
    "from matplotlib import pyplot as plt\n",
    "import pandas as pd\n",
    "import numpy as np"
   ]
  },
  {
   "cell_type": "raw",
   "id": "15a93a83-0058-4154-8af2-7c621237ea52",
   "metadata": {},
   "source": [
    "eventtime.toString() +\", \" +\n",
    "eventtime.getTime() +\", \" +\n",
    "mapCoordinate.latitude_deg  + \", \" +\n",
    "mapCoordinate.longitude_deg + \", \" +\n",
    "intentModelData[ALTITUDE_FT] +\", \"+\n",
    "intentModelData[GROUNDTRACK_DEG] +\", \"+\n",
    "intentModelData[GROUNDSPEED_KTS] +\", \"+\n",
    "intentModelData[VERTICALSPEED_FT_PER_MIN] +\", \"+\n",
    "winningVerticalModel.getLabel() +\", \"+\n",
    "winningHorizontalModel.getLabel() +\", \"+\n",
    "winningSpeedModel.getLabel();\n"
   ]
  },
  {
   "cell_type": "code",
   "execution_count": 2,
   "id": "4dbfadce-1597-4906-85e5-70eb0635bf14",
   "metadata": {},
   "outputs": [
    {
     "data": {
      "text/plain": [
       "'/Users/binshuaiwang/PycharmProjects/XAI_project/XAI_project/Python_Decision_Tree_and_Random_Forest'"
      ]
     },
     "execution_count": 2,
     "metadata": {},
     "output_type": "execute_result"
    }
   ],
   "source": [
    "import os\n",
    "cwd = os.getcwd()\n",
    "cwd"
   ]
  },
  {
   "cell_type": "code",
   "execution_count": 11,
   "id": "3c4fd9d6-af7f-4a45-8a81-7b32f62d14e2",
   "metadata": {},
   "outputs": [],
   "source": [
    "import pandas as pd \n",
    "# read text file into pandas DataFrame and \n",
    "# create header \n",
    "import os\n",
    "cwd = os.getcwd()\n",
    "file_name = \"All_nohold_1-71.dat\"\n",
    "file_path = cwd + \"/../data/nohold/\" + file_name\n",
    "df = pd.read_csv(file_path, sep=\",\", header=None)\n",
    "df.columns = [\"TIME_str\", \"TIME_sec\", \"latitude\", \"longitude\", \"ALTITUDE_FT\", \"GROUNDTRACK_DEG\", \\\n",
    "              \"GROUNDSPEED_KTS\", \"VERTICALSPEED_FT_PER_MIN\", \"Vertical_label\",\"Horizontal_label\", \"Speed_label\"]\n",
    "X_df = df[[ \"latitude\", \"longitude\", \"ALTITUDE_FT\", \"GROUNDTRACK_DEG\", \\\n",
    "              \"GROUNDSPEED_KTS\", \"VERTICALSPEED_FT_PER_MIN\"]]"
   ]
  },
  {
   "cell_type": "markdown",
   "id": "0e5b8eb3-5726-4b22-9685-583669609672",
   "metadata": {},
   "source": [
    "## target 1: Vertical_label"
   ]
  },
  {
   "cell_type": "code",
   "execution_count": 12,
   "id": "4c6bad32-73d6-4d17-a5c8-40c160dbc2d6",
   "metadata": {},
   "outputs": [],
   "source": [
    "Y_target = df[\"Vertical_label\"]\n",
    "n_sample = len(X_df)\n",
    "X_df = X_df.head(n_sample)\n",
    "Y_target = Y_target.head(n_sample)\n",
    "Y = []\n",
    "for y in Y_target:\n",
    "    for idx, s in enumerate(set(list(Y_target))):\n",
    "        if s == y:\n",
    "            Y.append(idx)\n",
    "Y = np.array(Y)"
   ]
  },
  {
   "cell_type": "code",
   "execution_count": 17,
   "id": "acb9d3ac-83b5-4e46-b902-6fc9234ba760",
   "metadata": {},
   "outputs": [
    {
     "name": "stderr",
     "output_type": "stream",
     "text": [
      "/Users/binshuaiwang/PycharmProjects/XAI_project/venv/lib/python3.10/site-packages/sklearn/base.py:465: UserWarning: X does not have valid feature names, but DecisionTreeClassifier was fitted with feature names\n"
     ]
    },
    {
     "name": "stdout",
     "output_type": "stream",
     "text": [
      "|--- ALTITUDE_FT <= 33965.50\n",
      "|   |--- VERTICALSPEED_FT_PER_MIN <= 160.00\n",
      "|   |   |--- VERTICALSPEED_FT_PER_MIN <= -160.00\n",
      "|   |   |   |--- latitude <= 40.49\n",
      "|   |   |   |   |--- longitude <= -73.68\n",
      "|   |   |   |   |   |--- class:  Descend_Nominal\n",
      "|   |   |   |   |--- longitude >  -73.68\n",
      "|   |   |   |   |   |--- class:   Over 250 kts under 10000ft\n",
      "|   |   |   |--- latitude >  40.49\n",
      "|   |   |   |   |--- VERTICALSPEED_FT_PER_MIN <= -864.00\n",
      "|   |   |   |   |   |--- class:  Descend_Nominal\n",
      "|   |   |   |   |--- VERTICALSPEED_FT_PER_MIN >  -864.00\n",
      "|   |   |   |   |   |--- class:  Descend_Nominal\n",
      "|   |   |--- VERTICALSPEED_FT_PER_MIN >  -160.00\n",
      "|   |   |   |--- VERTICALSPEED_FT_PER_MIN <= -32.00\n",
      "|   |   |   |   |--- GROUNDSPEED_KTS <= 245.50\n",
      "|   |   |   |   |   |--- class:  No Conclusion: Vertical\n",
      "|   |   |   |   |--- GROUNDSPEED_KTS >  245.50\n",
      "|   |   |   |   |   |--- class:  No Conclusion: Vertical\n",
      "|   |   |   |--- VERTICALSPEED_FT_PER_MIN >  -32.00\n",
      "|   |   |   |   |--- VERTICALSPEED_FT_PER_MIN <= 32.00\n",
      "|   |   |   |   |   |--- class:  No Conclusion: Vertical\n",
      "|   |   |   |   |--- VERTICALSPEED_FT_PER_MIN >  32.00\n",
      "|   |   |   |   |   |--- class:  No Conclusion: Vertical\n",
      "|   |--- VERTICALSPEED_FT_PER_MIN >  160.00\n",
      "|   |   |--- ALTITUDE_FT <= 8903.00\n",
      "|   |   |   |--- GROUNDSPEED_KTS <= 273.50\n",
      "|   |   |   |   |--- latitude <= 40.54\n",
      "|   |   |   |   |   |--- class:  Climb_OffNominal\n",
      "|   |   |   |   |--- latitude >  40.54\n",
      "|   |   |   |   |   |--- class:  Climb_Nominal\n",
      "|   |   |   |--- GROUNDSPEED_KTS >  273.50\n",
      "|   |   |   |   |--- latitude <= 40.55\n",
      "|   |   |   |   |   |--- class:  Climb_Nominal\n",
      "|   |   |   |   |--- latitude >  40.55\n",
      "|   |   |   |   |   |--- class:   Over 250 kts under 10000ft\n",
      "|   |   |--- ALTITUDE_FT >  8903.00\n",
      "|   |   |   |--- longitude <= -73.64\n",
      "|   |   |   |   |--- latitude <= 40.05\n",
      "|   |   |   |   |   |--- class:  Climb_Nominal\n",
      "|   |   |   |   |--- latitude >  40.05\n",
      "|   |   |   |   |   |--- class:  Climb_Nominal\n",
      "|   |   |   |--- longitude >  -73.64\n",
      "|   |   |   |   |--- class:  Climb_Nominal\n",
      "|--- ALTITUDE_FT >  33965.50\n",
      "|   |--- GROUNDSPEED_KTS <= 410.50\n",
      "|   |   |--- longitude <= -77.45\n",
      "|   |   |   |--- longitude <= -79.57\n",
      "|   |   |   |   |--- GROUNDSPEED_KTS <= 392.50\n",
      "|   |   |   |   |   |--- class:  Climb_Nominal\n",
      "|   |   |   |   |--- GROUNDSPEED_KTS >  392.50\n",
      "|   |   |   |   |   |--- class:  Climb_Nominal\n",
      "|   |   |   |--- longitude >  -79.57\n",
      "|   |   |   |   |--- class:  MaintainCurrentAltitude\n",
      "|   |   |--- longitude >  -77.45\n",
      "|   |   |   |--- ALTITUDE_FT <= 34020.00\n",
      "|   |   |   |   |--- VERTICALSPEED_FT_PER_MIN <= 32.00\n",
      "|   |   |   |   |   |--- class:  No Conclusion: Vertical\n",
      "|   |   |   |   |--- VERTICALSPEED_FT_PER_MIN >  32.00\n",
      "|   |   |   |   |   |--- class:  No Conclusion: Vertical\n",
      "|   |   |   |--- ALTITUDE_FT >  34020.00\n",
      "|   |   |   |   |--- longitude <= -77.03\n",
      "|   |   |   |   |   |--- class:  MaintainCurrentAltitude\n",
      "|   |   |   |   |--- longitude >  -77.03\n",
      "|   |   |   |   |   |--- class:  No Conclusion: Vertical\n",
      "|   |--- GROUNDSPEED_KTS >  410.50\n",
      "|   |   |--- VERTICALSPEED_FT_PER_MIN <= 160.00\n",
      "|   |   |   |--- VERTICALSPEED_FT_PER_MIN <= -160.00\n",
      "|   |   |   |   |--- ALTITUDE_FT <= 34719.50\n",
      "|   |   |   |   |   |--- class:  Descend_Nominal\n",
      "|   |   |   |   |--- ALTITUDE_FT >  34719.50\n",
      "|   |   |   |   |   |--- class:  Descend_Nominal\n",
      "|   |   |   |--- VERTICALSPEED_FT_PER_MIN >  -160.00\n",
      "|   |   |   |   |--- VERTICALSPEED_FT_PER_MIN <= 32.00\n",
      "|   |   |   |   |   |--- class:  MaintainCurrentAltitude\n",
      "|   |   |   |   |--- VERTICALSPEED_FT_PER_MIN >  32.00\n",
      "|   |   |   |   |   |--- class:  MaintainCurrentAltitude\n",
      "|   |   |--- VERTICALSPEED_FT_PER_MIN >  160.00\n",
      "|   |   |   |--- latitude <= 40.79\n",
      "|   |   |   |   |--- latitude <= 40.16\n",
      "|   |   |   |   |   |--- class:  Climb_Nominal\n",
      "|   |   |   |   |--- latitude >  40.16\n",
      "|   |   |   |   |   |--- class:  MaintainCurrentAltitude\n",
      "|   |   |   |--- latitude >  40.79\n",
      "|   |   |   |   |--- class:  Climb_Nominal\n",
      "\n"
     ]
    }
   ],
   "source": [
    "import dtreeviz\n",
    "from sklearn.tree import export_text\n",
    "criterion = \"entropy\"\n",
    "dtree = DecisionTreeClassifier(criterion=criterion, max_depth=5, min_samples_leaf=20)   # (random_state=1234)\n",
    "model=dtree.fit(X_df,Y)\n",
    "target_names =  list(set(list(Y_target)))\n",
    "viz_model = dtreeviz.model(dtree, X_df, Y,\n",
    "                target_name=\"target\",\n",
    "                feature_names=list(X_df.columns),\n",
    "                class_names=target_names)\n",
    "\n",
    "v = viz_model.view()     # render as SVG into internal object \n",
    "v                 # pop up window\n",
    "v.save(\"nohold\"+file_name.split(\".\")[0]+ \"Vertical_label\" +criterion  + \".svg\")  # optionally save as svg\n",
    "r = export_text(dtree, feature_names=list(X_df.columns), class_names=target_names)\n",
    "print(r)"
   ]
  },
  {
   "cell_type": "code",
   "execution_count": null,
   "id": "f7289396-a1a1-4e3c-a0fb-d4d8d2ea0328",
   "metadata": {},
   "outputs": [],
   "source": [
    "# this is for entropy importance\n",
    "import graphviz\n",
    "from sklearn.tree import export_graphviz\n",
    "dot_data = export_graphviz(dtree,\n",
    "                           feature_names=X_df.columns,  \n",
    "                           class_names = target_names,\n",
    "\n",
    "                           filled=True,  \n",
    "                           rounded = True,\n",
    "                            precision = 2,\n",
    "                           proportion=True)\n",
    "graph = graphviz.Source(dot_data)\n",
    "graph.format = \"png\"\n",
    "graph.render(\"nohold\"+file_name.split(\".\")[0]+ \"Vertical_label_\"+criterion + \"importances\")"
   ]
  },
  {
   "cell_type": "code",
   "execution_count": 20,
   "id": "293af276-e466-4f8f-a27a-7b039953ea4f",
   "metadata": {},
   "outputs": [
    {
     "name": "stderr",
     "output_type": "stream",
     "text": [
      "/Users/binshuaiwang/PycharmProjects/XAI_project/venv/lib/python3.10/site-packages/sklearn/base.py:465: UserWarning: X does not have valid feature names, but DecisionTreeClassifier was fitted with feature names\n"
     ]
    },
    {
     "name": "stdout",
     "output_type": "stream",
     "text": [
      "|--- ALTITUDE_FT <= 33965.50\n",
      "|   |--- VERTICALSPEED_FT_PER_MIN <= 160.00\n",
      "|   |   |--- VERTICALSPEED_FT_PER_MIN <= -160.00\n",
      "|   |   |   |--- GROUNDTRACK_DEG <= 180.50\n",
      "|   |   |   |   |--- VERTICALSPEED_FT_PER_MIN <= -864.00\n",
      "|   |   |   |   |   |--- class:  Descend_Nominal\n",
      "|   |   |   |   |--- VERTICALSPEED_FT_PER_MIN >  -864.00\n",
      "|   |   |   |   |   |--- class:  Descend_Nominal\n",
      "|   |   |   |--- GROUNDTRACK_DEG >  180.50\n",
      "|   |   |   |   |--- latitude <= 40.31\n",
      "|   |   |   |   |   |--- class:  Descend_Nominal\n",
      "|   |   |   |   |--- latitude >  40.31\n",
      "|   |   |   |   |   |--- class:   Over 250 kts under 10000ft\n",
      "|   |   |--- VERTICALSPEED_FT_PER_MIN >  -160.00\n",
      "|   |   |   |--- VERTICALSPEED_FT_PER_MIN <= -32.00\n",
      "|   |   |   |   |--- GROUNDSPEED_KTS <= 245.50\n",
      "|   |   |   |   |   |--- class:  No Conclusion: Vertical\n",
      "|   |   |   |   |--- GROUNDSPEED_KTS >  245.50\n",
      "|   |   |   |   |   |--- class:  No Conclusion: Vertical\n",
      "|   |   |   |--- VERTICALSPEED_FT_PER_MIN >  -32.00\n",
      "|   |   |   |   |--- VERTICALSPEED_FT_PER_MIN <= 32.00\n",
      "|   |   |   |   |   |--- class:  No Conclusion: Vertical\n",
      "|   |   |   |   |--- VERTICALSPEED_FT_PER_MIN >  32.00\n",
      "|   |   |   |   |   |--- class:  No Conclusion: Vertical\n",
      "|   |--- VERTICALSPEED_FT_PER_MIN >  160.00\n",
      "|   |   |--- ALTITUDE_FT <= 8903.00\n",
      "|   |   |   |--- GROUNDSPEED_KTS <= 273.50\n",
      "|   |   |   |   |--- latitude <= 40.54\n",
      "|   |   |   |   |   |--- class:  Climb_OffNominal\n",
      "|   |   |   |   |--- latitude >  40.54\n",
      "|   |   |   |   |   |--- class:  Climb_Nominal\n",
      "|   |   |   |--- GROUNDSPEED_KTS >  273.50\n",
      "|   |   |   |   |--- latitude <= 40.55\n",
      "|   |   |   |   |   |--- class:  Climb_Nominal\n",
      "|   |   |   |   |--- latitude >  40.55\n",
      "|   |   |   |   |   |--- class:   Over 250 kts under 10000ft\n",
      "|   |   |--- ALTITUDE_FT >  8903.00\n",
      "|   |   |   |--- longitude <= -73.64\n",
      "|   |   |   |   |--- latitude <= 40.05\n",
      "|   |   |   |   |   |--- class:  Climb_Nominal\n",
      "|   |   |   |   |--- latitude >  40.05\n",
      "|   |   |   |   |   |--- class:  Climb_Nominal\n",
      "|   |   |   |--- longitude >  -73.64\n",
      "|   |   |   |   |--- class:  Climb_Nominal\n",
      "|--- ALTITUDE_FT >  33965.50\n",
      "|   |--- GROUNDSPEED_KTS <= 410.50\n",
      "|   |   |--- longitude <= -77.45\n",
      "|   |   |   |--- longitude <= -79.57\n",
      "|   |   |   |   |--- GROUNDSPEED_KTS <= 392.50\n",
      "|   |   |   |   |   |--- class:  Climb_Nominal\n",
      "|   |   |   |   |--- GROUNDSPEED_KTS >  392.50\n",
      "|   |   |   |   |   |--- class:  Climb_Nominal\n",
      "|   |   |   |--- longitude >  -79.57\n",
      "|   |   |   |   |--- class:  MaintainCurrentAltitude\n",
      "|   |   |--- longitude >  -77.45\n",
      "|   |   |   |--- ALTITUDE_FT <= 34020.00\n",
      "|   |   |   |   |--- VERTICALSPEED_FT_PER_MIN <= 32.00\n",
      "|   |   |   |   |   |--- class:  No Conclusion: Vertical\n",
      "|   |   |   |   |--- VERTICALSPEED_FT_PER_MIN >  32.00\n",
      "|   |   |   |   |   |--- class:  No Conclusion: Vertical\n",
      "|   |   |   |--- ALTITUDE_FT >  34020.00\n",
      "|   |   |   |   |--- latitude <= 40.59\n",
      "|   |   |   |   |   |--- class:  No Conclusion: Vertical\n",
      "|   |   |   |   |--- latitude >  40.59\n",
      "|   |   |   |   |   |--- class:  MaintainCurrentAltitude\n",
      "|   |--- GROUNDSPEED_KTS >  410.50\n",
      "|   |   |--- VERTICALSPEED_FT_PER_MIN <= 160.00\n",
      "|   |   |   |--- VERTICALSPEED_FT_PER_MIN <= -160.00\n",
      "|   |   |   |   |--- ALTITUDE_FT <= 34719.50\n",
      "|   |   |   |   |   |--- class:  Descend_Nominal\n",
      "|   |   |   |   |--- ALTITUDE_FT >  34719.50\n",
      "|   |   |   |   |   |--- class:  Descend_Nominal\n",
      "|   |   |   |--- VERTICALSPEED_FT_PER_MIN >  -160.00\n",
      "|   |   |   |   |--- VERTICALSPEED_FT_PER_MIN <= 32.00\n",
      "|   |   |   |   |   |--- class:  MaintainCurrentAltitude\n",
      "|   |   |   |   |--- VERTICALSPEED_FT_PER_MIN >  32.00\n",
      "|   |   |   |   |   |--- class:  MaintainCurrentAltitude\n",
      "|   |   |--- VERTICALSPEED_FT_PER_MIN >  160.00\n",
      "|   |   |   |--- longitude <= -79.62\n",
      "|   |   |   |   |--- class:  Climb_Nominal\n",
      "|   |   |   |--- longitude >  -79.62\n",
      "|   |   |   |   |--- ALTITUDE_FT <= 36135.00\n",
      "|   |   |   |   |   |--- class:  MaintainCurrentAltitude\n",
      "|   |   |   |   |--- ALTITUDE_FT >  36135.00\n",
      "|   |   |   |   |   |--- class:  Climb_Nominal\n",
      "\n"
     ]
    }
   ],
   "source": [
    "import dtreeviz\n",
    "from sklearn.tree import export_text\n",
    "criterion = \"log_loss\"\n",
    "dtree = DecisionTreeClassifier(criterion=criterion, max_depth=5, min_samples_leaf=20)   # (random_state=1234)\n",
    "model=dtree.fit(X_df,Y)\n",
    "target_names =  list(set(list(Y_target)))\n",
    "viz_model = dtreeviz.model(dtree, X_df, Y,\n",
    "                target_name=\"target\",\n",
    "                feature_names=list(X_df.columns),\n",
    "                class_names=target_names)\n",
    "\n",
    "v = viz_model.view()     # render as SVG into internal object \n",
    "v                 # pop up window\n",
    "v.save(\"nohold\"+file_name.split(\".\")[0]+ \"Vertical_label\" +criterion  + \".svg\")  # optionally save as svg\n",
    "r = export_text(dtree, feature_names=list(X_df.columns), class_names=target_names)\n",
    "print(r)"
   ]
  },
  {
   "cell_type": "code",
   "execution_count": 21,
   "id": "54d097c4-0d1c-4910-9a40-21fa0e51f2c1",
   "metadata": {},
   "outputs": [
    {
     "data": {
      "text/plain": [
       "'noholdAll_nohold_1-71Vertical_label_log_lossimportances.png'"
      ]
     },
     "execution_count": 21,
     "metadata": {},
     "output_type": "execute_result"
    }
   ],
   "source": [
    "# this is for log_loss importance\n",
    "import graphviz\n",
    "from sklearn.tree import export_graphviz\n",
    "dot_data = export_graphviz(dtree,\n",
    "                           feature_names=X_df.columns,  \n",
    "                           class_names = target_names,\n",
    "\n",
    "                           filled=True,  \n",
    "                           rounded = True,\n",
    "                            precision = 2,\n",
    "                           proportion=True)\n",
    "graph = graphviz.Source(dot_data)\n",
    "graph.format = \"png\"\n",
    "graph.render(\"nohold\"+file_name.split(\".\")[0]+ \"Vertical_label_\"+criterion + \"importances\")"
   ]
  },
  {
   "cell_type": "code",
   "execution_count": 20,
   "id": "ac22bcb2-32ef-4168-ba12-0637a1d32001",
   "metadata": {
    "scrolled": true
   },
   "outputs": [
    {
     "data": {
      "text/plain": [
       "'noholdAll_nohold_1-71Vertical_label_importances.png'"
      ]
     },
     "execution_count": 20,
     "metadata": {},
     "output_type": "execute_result"
    }
   ],
   "source": [
    "# this is for gini importance\n",
    "import graphviz\n",
    "from sklearn.tree import export_graphviz\n",
    "dot_data = export_graphviz(dtree,\n",
    "                           feature_names=X_df.columns,  \n",
    "                           class_names = target_names,\n",
    "\n",
    "                           filled=True,  \n",
    "                           rounded = True,\n",
    "                            precision = 2,\n",
    "                           proportion=True)\n",
    "graph = graphviz.Source(dot_data)\n",
    "graph.format = \"png\"\n",
    "graph.render(\"nohold\"+file_name.split(\".\")[0]+ \"Vertical_label_\"+\"importances\")"
   ]
  },
  {
   "cell_type": "code",
   "execution_count": 16,
   "id": "fcded80f-3e6b-4767-8b95-458a95d5b854",
   "metadata": {
    "scrolled": true
   },
   "outputs": [
    {
     "name": "stderr",
     "output_type": "stream",
     "text": [
      "/Users/binshuaiwang/PycharmProjects/XAI_project/venv/lib/python3.10/site-packages/sklearn/base.py:465: UserWarning: X does not have valid feature names, but DecisionTreeClassifier was fitted with feature names\n"
     ]
    }
   ],
   "source": [
    "import dtreeviz\n",
    "criterion\n",
    "dtree = DecisionTreeClassifier(criterion=criterion, max_depth= 5, min_samples_leaf = 20)   # (random_state=1234)\n",
    "model=dtree.fit(X_df,Y)\n",
    "target_names =  list(set(list(Y_target)))\n",
    "viz_model = dtreeviz.model(dtree, X_df, Y,\n",
    "                target_name=\"target\",\n",
    "                feature_names=list(X_df.columns),\n",
    "                class_names=target_names)\n",
    "\n",
    "v = viz_model.view()     # render as SVG into internal object \n",
    "v                 # pop up window\n",
    "v.save(\"nohold\"+file_name.split(\".\")[0]+ \"Vertical_label_max_depth_5\" + criterion  + \".svg\")  # optionally save as svg"
   ]
  },
  {
   "cell_type": "markdown",
   "id": "e0a71a0b-d389-4a49-bfca-d6639c9ac4c0",
   "metadata": {
    "jp-MarkdownHeadingCollapsed": true
   },
   "source": [
    "## target 2: Horizontal_label"
   ]
  },
  {
   "cell_type": "code",
   "execution_count": 15,
   "id": "5036567d-a971-484b-a8ac-b71b44e32851",
   "metadata": {},
   "outputs": [],
   "source": [
    "Y_target = df[\"Horizontal_label\"]\n",
    "n_sample = len(X_df)\n",
    "X_df = X_df.head(n_sample)\n",
    "Y_target = Y_target.head(n_sample)\n",
    "Y = []\n",
    "for y in Y_target:\n",
    "    for idx, s in enumerate(set(list(Y_target))):\n",
    "        if s == y:\n",
    "            Y.append(idx)\n",
    "Y = np.array(Y)"
   ]
  },
  {
   "cell_type": "code",
   "execution_count": 16,
   "id": "bfe6b53f-c51a-4294-bd5b-e8c38dc77fc7",
   "metadata": {},
   "outputs": [
    {
     "name": "stderr",
     "output_type": "stream",
     "text": [
      "/Users/binshuaiwang/PycharmProjects/XAI_project/venv/lib/python3.10/site-packages/sklearn/base.py:465: UserWarning: X does not have valid feature names, but DecisionTreeClassifier was fitted with feature names\n"
     ]
    }
   ],
   "source": [
    "import dtreeviz\n",
    "dtree = DecisionTreeClassifier()   # (random_state=1234)\n",
    "model=dtree.fit(X_df,Y)\n",
    "target_names =  list(set(list(Y_target)))\n",
    "viz_model = dtreeviz.model(dtree, X_df, Y,\n",
    "                target_name=\"target\",\n",
    "                feature_names=list(X_df.columns),\n",
    "                class_names=target_names)\n",
    "\n",
    "v = viz_model.view()     # render as SVG into internal object \n",
    "v                 # pop up window\n",
    "v.save(\"nohold\"+file_name.split(\".\")[0]+ \"Horizontal_label\"  + \".svg\")  # optionally save as svg"
   ]
  },
  {
   "cell_type": "markdown",
   "id": "391f7a44-1700-408d-950f-8dd8dca4a0f6",
   "metadata": {},
   "source": [
    "## Target 3: Speed_label"
   ]
  },
  {
   "cell_type": "code",
   "execution_count": 17,
   "id": "50b200c8-81ec-4a48-bf79-d554c715288e",
   "metadata": {},
   "outputs": [],
   "source": [
    "Y_target = df[\"Speed_label\"]\n",
    "n_sample = len(X_df)\n",
    "X_df = X_df.head(n_sample)\n",
    "Y_target = Y_target.head(n_sample)\n",
    "Y = []\n",
    "for y in Y_target:\n",
    "    for idx, s in enumerate(set(list(Y_target))):\n",
    "        if s == y:\n",
    "            Y.append(idx)\n",
    "Y = np.array(Y)"
   ]
  },
  {
   "cell_type": "code",
   "execution_count": 18,
   "id": "ff8fa8a5-91a9-46ef-aebe-07d2b1c2a674",
   "metadata": {},
   "outputs": [
    {
     "name": "stderr",
     "output_type": "stream",
     "text": [
      "/Users/binshuaiwang/PycharmProjects/XAI_project/venv/lib/python3.10/site-packages/sklearn/base.py:465: UserWarning: X does not have valid feature names, but DecisionTreeClassifier was fitted with feature names\n"
     ]
    }
   ],
   "source": [
    "import dtreeviz\n",
    "dtree = DecisionTreeClassifier()   # (random_state=1234)\n",
    "model=dtree.fit(X_df,Y)\n",
    "target_names =  list(set(list(Y_target)))\n",
    "viz_model = dtreeviz.model(dtree, X_df, Y,\n",
    "                target_name=\"target\",\n",
    "                feature_names=list(X_df.columns),\n",
    "                class_names=target_names)\n",
    "\n",
    "v = viz_model.view()     # render as SVG into internal object \n",
    "v                 # pop up window\n",
    "v.save(\"nohold\"+file_name.split(\".\")[0]+ \"Speed_label\"  + \".svg\")  # optionally save as svg"
   ]
  },
  {
   "cell_type": "code",
   "execution_count": null,
   "id": "f52d52c9-3964-460b-93c5-483b9f552ac9",
   "metadata": {},
   "outputs": [],
   "source": []
  }
 ],
 "metadata": {
  "kernelspec": {
   "display_name": "Python 3 (ipykernel)",
   "language": "python",
   "name": "python3"
  },
  "language_info": {
   "codemirror_mode": {
    "name": "ipython",
    "version": 3
   },
   "file_extension": ".py",
   "mimetype": "text/x-python",
   "name": "python",
   "nbconvert_exporter": "python",
   "pygments_lexer": "ipython3",
   "version": "3.10.2"
  }
 },
 "nbformat": 4,
 "nbformat_minor": 5
}
