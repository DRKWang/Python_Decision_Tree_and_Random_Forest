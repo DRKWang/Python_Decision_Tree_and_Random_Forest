{
 "cells": [
  {
   "cell_type": "code",
   "execution_count": 1,
   "id": "13f11a1f-12e3-47a0-8a0b-d42e3d1e6189",
   "metadata": {},
   "outputs": [],
   "source": [
    "# Importing necessary modules\n",
    "\n",
    "import sklearn.datasets as datasets\n",
    "from sklearn.ensemble import RandomForestClassifier\n",
    "\n",
    "from sklearn import tree\n",
    "from matplotlib import pyplot as plt\n",
    "import pandas as pd\n",
    "import numpy as np"
   ]
  },
  {
   "cell_type": "raw",
   "id": "15a93a83-0058-4154-8af2-7c621237ea52",
   "metadata": {},
   "source": [
    "eventtime.toString() +\", \" +\n",
    "eventtime.getTime() +\", \" +\n",
    "mapCoordinate.latitude_deg  + \", \" +\n",
    "mapCoordinate.longitude_deg + \", \" +\n",
    "intentModelData[ALTITUDE_FT] +\", \"+\n",
    "intentModelData[GROUNDTRACK_DEG] +\", \"+\n",
    "intentModelData[GROUNDSPEED_KTS] +\", \"+\n",
    "intentModelData[VERTICALSPEED_FT_PER_MIN] +\", \"+\n",
    "winningVerticalModel.getLabel() +\", \"+\n",
    "winningHorizontalModel.getLabel() +\", \"+\n",
    "winningSpeedModel.getLabel();\n"
   ]
  },
  {
   "cell_type": "code",
   "execution_count": 2,
   "id": "4dbfadce-1597-4906-85e5-70eb0635bf14",
   "metadata": {},
   "outputs": [
    {
     "data": {
      "text/plain": [
       "'/Users/binshuaiwang/PycharmProjects/XAI_project/XAI_project/Python_Decision_Tree_and_Random_Forest'"
      ]
     },
     "execution_count": 2,
     "metadata": {},
     "output_type": "execute_result"
    }
   ],
   "source": [
    "import os\n",
    "cwd = os.getcwd()\n",
    "cwd"
   ]
  },
  {
   "cell_type": "code",
   "execution_count": 3,
   "id": "3c4fd9d6-af7f-4a45-8a81-7b32f62d14e2",
   "metadata": {},
   "outputs": [],
   "source": [
    "import pandas as pd \n",
    "# read text file into pandas DataFrame and \n",
    "# create header \n",
    "import os\n",
    "cwd = os.getcwd()\n",
    "file_name = \"All_nohold_1-71.dat\"\n",
    "file_path = cwd + \"/../data/nohold/\" + file_name\n",
    "df = pd.read_csv(file_path, sep=\",\", header=None)\n",
    "df.columns = [\"TIME_str\", \"TIME_sec\", \"latitude\", \"longitude\", \"ALTITUDE_FT\", \"GROUNDTRACK_DEG\", \\\n",
    "              \"GROUNDSPEED_KTS\", \"VERTICALSPEED_FT_PER_MIN\", \"Vertical_label\",\"Horizontal_label\", \"Speed_label\"]\n",
    "X_df = df[[ \"latitude\", \"longitude\", \"ALTITUDE_FT\", \"GROUNDTRACK_DEG\", \\\n",
    "              \"GROUNDSPEED_KTS\", \"VERTICALSPEED_FT_PER_MIN\"]]"
   ]
  },
  {
   "cell_type": "markdown",
   "id": "0e5b8eb3-5726-4b22-9685-583669609672",
   "metadata": {},
   "source": [
    "## target 1: Vertical_label"
   ]
  },
  {
   "cell_type": "code",
   "execution_count": 4,
   "id": "4c6bad32-73d6-4d17-a5c8-40c160dbc2d6",
   "metadata": {},
   "outputs": [],
   "source": [
    "Y_target = df[\"Vertical_label\"]\n",
    "n_sample = len(X_df)\n",
    "X_df = X_df.head(n_sample)\n",
    "Y_target = Y_target.head(n_sample)\n",
    "Y = []\n",
    "for y in Y_target:\n",
    "    for idx, s in enumerate(set(list(Y_target))):\n",
    "        if s == y:\n",
    "            Y.append(idx)\n",
    "Y = np.array(Y)"
   ]
  },
  {
   "cell_type": "code",
   "execution_count": 13,
   "id": "9e15f32e-5fb0-48e6-b869-e582a6e12677",
   "metadata": {},
   "outputs": [],
   "source": [
    "num_of_trees = 3\n",
    "rf = RandomForestClassifier(n_estimators=num_of_trees, max_depth=5, min_samples_leaf=20)\n",
    "model=rf.fit(X_df,Y)"
   ]
  },
  {
   "cell_type": "code",
   "execution_count": 14,
   "id": "acb9d3ac-83b5-4e46-b902-6fc9234ba760",
   "metadata": {
    "scrolled": true
   },
   "outputs": [],
   "source": [
    "import dtreeviz\n",
    "target_names =  list(set(list(Y_target)))\n",
    "for i in range(num_of_trees):\n",
    "    viz_model = dtreeviz.model(rf[i], X_df, Y,\n",
    "                    target_name=\"target\",\n",
    "                    feature_names=list(X_df.columns),\n",
    "                    class_names=target_names)\n"
   ]
  },
  {
   "cell_type": "code",
   "execution_count": null,
   "id": "f52d52c9-3964-460b-93c5-483b9f552ac9",
   "metadata": {},
   "outputs": [],
   "source": []
  }
 ],
 "metadata": {
  "kernelspec": {
   "display_name": "Python 3 (ipykernel)",
   "language": "python",
   "name": "python3"
  },
  "language_info": {
   "codemirror_mode": {
    "name": "ipython",
    "version": 3
   },
   "file_extension": ".py",
   "mimetype": "text/x-python",
   "name": "python",
   "nbconvert_exporter": "python",
   "pygments_lexer": "ipython3",
   "version": "3.10.2"
  }
 },
 "nbformat": 4,
 "nbformat_minor": 5
}
