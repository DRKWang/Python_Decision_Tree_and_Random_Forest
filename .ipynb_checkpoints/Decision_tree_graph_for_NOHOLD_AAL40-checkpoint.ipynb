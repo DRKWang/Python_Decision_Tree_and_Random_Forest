{
 "cells": [
  {
   "cell_type": "code",
   "execution_count": 1,
   "id": "13f11a1f-12e3-47a0-8a0b-d42e3d1e6189",
   "metadata": {},
   "outputs": [],
   "source": [
    "# Importing necessary modules\n",
    "\n",
    "import sklearn.datasets as datasets\n",
    "from sklearn.tree import DecisionTreeClassifier \n",
    "from sklearn import tree\n",
    "from matplotlib import pyplot as plt\n",
    "import pandas as pd\n",
    "import numpy as np"
   ]
  },
  {
   "cell_type": "raw",
   "id": "15a93a83-0058-4154-8af2-7c621237ea52",
   "metadata": {},
   "source": [
    "eventtime.toString() +\", \" +\n",
    "eventtime.getTime() +\", \" +\n",
    "mapCoordinate.latitude_deg  + \", \" +\n",
    "mapCoordinate.longitude_deg + \", \" +\n",
    "intentModelData[ALTITUDE_FT] +\", \"+\n",
    "intentModelData[GROUNDTRACK_DEG] +\", \"+\n",
    "intentModelData[GROUNDSPEED_KTS] +\", \"+\n",
    "intentModelData[VERTICALSPEED_FT_PER_MIN] +\", \"+\n",
    "winningVerticalModel.getLabel() +\", \"+\n",
    "winningHorizontalModel.getLabel() +\", \"+\n",
    "winningSpeedModel.getLabel();\n"
   ]
  },
  {
   "cell_type": "code",
   "execution_count": 2,
   "id": "4dbfadce-1597-4906-85e5-70eb0635bf14",
   "metadata": {},
   "outputs": [
    {
     "data": {
      "text/plain": [
       "'/Users/binshuaiwang/PycharmProjects/XAI_project/XAI_project/Python_Decision_Tree_and_Random_Forest'"
      ]
     },
     "execution_count": 2,
     "metadata": {},
     "output_type": "execute_result"
    }
   ],
   "source": [
    "import os\n",
    "cwd = os.getcwd()\n",
    "cwd"
   ]
  },
  {
   "cell_type": "code",
   "execution_count": 3,
   "id": "3c4fd9d6-af7f-4a45-8a81-7b32f62d14e2",
   "metadata": {},
   "outputs": [],
   "source": [
    "import pandas as pd \n",
    "# read text file into pandas DataFrame and \n",
    "# create header \n",
    "import os\n",
    "cwd = os.getcwd()\n",
    "file_name = \"Traj_AAL40-11213808.dat\"\n",
    "file_path = cwd + \"/../data/nohold/\" + file_name\n",
    "df = pd.read_csv(file_path, sep=\",\", header=None)\n",
    "df.columns = [\"TIME_str\", \"TIME_sec\", \"latitude\", \"longitude\", \"ALTITUDE_FT\", \"GROUNDTRACK_DEG\", \\\n",
    "              \"GROUNDSPEED_KTS\", \"VERTICALSPEED_FT_PER_MIN\", \"Vertical_label\",\"Horizontal_label\", \"Speed_label\"]\n",
    "X_df = df[[ \"latitude\", \"longitude\", \"ALTITUDE_FT\", \"GROUNDTRACK_DEG\", \\\n",
    "              \"GROUNDSPEED_KTS\", \"VERTICALSPEED_FT_PER_MIN\"]]"
   ]
  },
  {
   "cell_type": "markdown",
   "id": "0e5b8eb3-5726-4b22-9685-583669609672",
   "metadata": {},
   "source": [
    "## target 1: Vertical_label"
   ]
  },
  {
   "cell_type": "code",
   "execution_count": 4,
   "id": "4c6bad32-73d6-4d17-a5c8-40c160dbc2d6",
   "metadata": {},
   "outputs": [],
   "source": [
    "Y_target = df[\"Vertical_label\"]\n",
    "n_sample = len(X_df)\n",
    "X_df = X_df.head(n_sample)\n",
    "Y_target = Y_target.head(n_sample)\n",
    "Y = []\n",
    "for y in Y_target:\n",
    "    for idx, s in enumerate(set(list(Y_target))):\n",
    "        if s == y:\n",
    "            Y.append(idx)\n",
    "Y = np.array(Y)"
   ]
  },
  {
   "cell_type": "code",
   "execution_count": 5,
   "id": "acb9d3ac-83b5-4e46-b902-6fc9234ba760",
   "metadata": {},
   "outputs": [
    {
     "name": "stderr",
     "output_type": "stream",
     "text": [
      "/Users/binshuaiwang/PycharmProjects/XAI_project/venv/lib/python3.10/site-packages/sklearn/base.py:465: UserWarning: X does not have valid feature names, but DecisionTreeClassifier was fitted with feature names\n",
      "/Users/binshuaiwang/PycharmProjects/XAI_project/venv/lib/python3.10/site-packages/dtreeviz/trees.py:1385: UserWarning: Attempting to set identical low and high ylims makes transformation singular; automatically expanding.\n"
     ]
    }
   ],
   "source": [
    "import dtreeviz\n",
    "dtree = DecisionTreeClassifier()   # (random_state=1234)\n",
    "model=dtree.fit(X_df,Y)\n",
    "target_names =  list(set(list(Y_target)))\n",
    "viz_model = dtreeviz.model(dtree, X_df, Y,\n",
    "                target_name=\"target\",\n",
    "                feature_names=list(X_df.columns),\n",
    "                class_names=target_names)\n",
    "\n",
    "v = viz_model.view()     # render as SVG into internal object \n",
    "v                 # pop up window\n",
    "v.save(\"nohold\"+file_name.split(\".\")[0]+ \"Vertical_label\"  + \".svg\")  # optionally save as svg"
   ]
  },
  {
   "cell_type": "markdown",
   "id": "e0a71a0b-d389-4a49-bfca-d6639c9ac4c0",
   "metadata": {},
   "source": [
    "## target 2: Horizontal_label"
   ]
  },
  {
   "cell_type": "code",
   "execution_count": 6,
   "id": "5036567d-a971-484b-a8ac-b71b44e32851",
   "metadata": {},
   "outputs": [],
   "source": [
    "Y_target = df[\"Horizontal_label\"]\n",
    "n_sample = len(X_df)\n",
    "X_df = X_df.head(n_sample)\n",
    "Y_target = Y_target.head(n_sample)\n",
    "Y = []\n",
    "for y in Y_target:\n",
    "    for idx, s in enumerate(set(list(Y_target))):\n",
    "        if s == y:\n",
    "            Y.append(idx)\n",
    "Y = np.array(Y)"
   ]
  },
  {
   "cell_type": "code",
   "execution_count": 7,
   "id": "bfe6b53f-c51a-4294-bd5b-e8c38dc77fc7",
   "metadata": {},
   "outputs": [
    {
     "name": "stderr",
     "output_type": "stream",
     "text": [
      "/Users/binshuaiwang/PycharmProjects/XAI_project/venv/lib/python3.10/site-packages/sklearn/base.py:465: UserWarning: X does not have valid feature names, but DecisionTreeClassifier was fitted with feature names\n",
      "/Users/binshuaiwang/PycharmProjects/XAI_project/venv/lib/python3.10/site-packages/dtreeviz/trees.py:1385: UserWarning: Attempting to set identical low and high ylims makes transformation singular; automatically expanding.\n"
     ]
    }
   ],
   "source": [
    "import dtreeviz\n",
    "dtree = DecisionTreeClassifier()   # (random_state=1234)\n",
    "model=dtree.fit(X_df,Y)\n",
    "target_names =  list(set(list(Y_target)))\n",
    "viz_model = dtreeviz.model(dtree, X_df, Y,\n",
    "                target_name=\"target\",\n",
    "                feature_names=list(X_df.columns),\n",
    "                class_names=target_names)\n",
    "\n",
    "v = viz_model.view()     # render as SVG into internal object \n",
    "v                 # pop up window\n",
    "v.save(\"nohold\"+file_name.split(\".\")[0]+ \"Horizontal_label\"  + \".svg\")  # optionally save as svg"
   ]
  },
  {
   "cell_type": "markdown",
   "id": "391f7a44-1700-408d-950f-8dd8dca4a0f6",
   "metadata": {},
   "source": [
    "## Target 3: Speed_label"
   ]
  },
  {
   "cell_type": "code",
   "execution_count": 8,
   "id": "50b200c8-81ec-4a48-bf79-d554c715288e",
   "metadata": {},
   "outputs": [],
   "source": [
    "Y_target = df[\"Speed_label\"]\n",
    "n_sample = len(X_df)\n",
    "X_df = X_df.head(n_sample)\n",
    "Y_target = Y_target.head(n_sample)\n",
    "Y = []\n",
    "for y in Y_target:\n",
    "    for idx, s in enumerate(set(list(Y_target))):\n",
    "        if s == y:\n",
    "            Y.append(idx)\n",
    "Y = np.array(Y)"
   ]
  },
  {
   "cell_type": "code",
   "execution_count": 9,
   "id": "ff8fa8a5-91a9-46ef-aebe-07d2b1c2a674",
   "metadata": {},
   "outputs": [
    {
     "name": "stderr",
     "output_type": "stream",
     "text": [
      "/Users/binshuaiwang/PycharmProjects/XAI_project/venv/lib/python3.10/site-packages/sklearn/base.py:465: UserWarning: X does not have valid feature names, but DecisionTreeClassifier was fitted with feature names\n",
      "/Users/binshuaiwang/PycharmProjects/XAI_project/venv/lib/python3.10/site-packages/dtreeviz/trees.py:1385: UserWarning: Attempting to set identical low and high ylims makes transformation singular; automatically expanding.\n"
     ]
    }
   ],
   "source": [
    "import dtreeviz\n",
    "dtree = DecisionTreeClassifier()   # (random_state=1234)\n",
    "model=dtree.fit(X_df,Y)\n",
    "target_names =  list(set(list(Y_target)))\n",
    "viz_model = dtreeviz.model(dtree, X_df, Y,\n",
    "                target_name=\"target\",\n",
    "                feature_names=list(X_df.columns),\n",
    "                class_names=target_names)\n",
    "\n",
    "v = viz_model.view()     # render as SVG into internal object \n",
    "v                 # pop up window\n",
    "v.save(\"nohold\"+file_name.split(\".\")[0]+ \"Speed_label\"  + \".svg\")  # optionally save as svg"
   ]
  },
  {
   "cell_type": "code",
   "execution_count": null,
   "id": "f52d52c9-3964-460b-93c5-483b9f552ac9",
   "metadata": {},
   "outputs": [],
   "source": []
  }
 ],
 "metadata": {
  "kernelspec": {
   "display_name": "Python 3 (ipykernel)",
   "language": "python",
   "name": "python3"
  },
  "language_info": {
   "codemirror_mode": {
    "name": "ipython",
    "version": 3
   },
   "file_extension": ".py",
   "mimetype": "text/x-python",
   "name": "python",
   "nbconvert_exporter": "python",
   "pygments_lexer": "ipython3",
   "version": "3.10.2"
  }
 },
 "nbformat": 4,
 "nbformat_minor": 5
}
