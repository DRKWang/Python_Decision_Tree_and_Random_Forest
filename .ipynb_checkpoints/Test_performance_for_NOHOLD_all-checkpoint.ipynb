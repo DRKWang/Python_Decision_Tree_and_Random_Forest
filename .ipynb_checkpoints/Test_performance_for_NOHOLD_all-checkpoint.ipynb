{
 "cells": [
  {
   "cell_type": "code",
   "execution_count": 318,
   "id": "13f11a1f-12e3-47a0-8a0b-d42e3d1e6189",
   "metadata": {},
   "outputs": [],
   "source": [
    "# Importing necessary modules\n",
    "\n",
    "import sklearn.datasets as datasets\n",
    "from sklearn.tree import DecisionTreeClassifier\n",
    "from sklearn.ensemble import RandomForestClassifier\n",
    "\n",
    "from sklearn import tree\n",
    "from matplotlib import pyplot as plt\n",
    "import pandas as pd\n",
    "import numpy as np"
   ]
  },
  {
   "cell_type": "raw",
   "id": "15a93a83-0058-4154-8af2-7c621237ea52",
   "metadata": {},
   "source": [
    "eventtime.toString() +\", \" +\n",
    "eventtime.getTime() +\", \" +\n",
    "mapCoordinate.latitude_deg  + \", \" +\n",
    "mapCoordinate.longitude_deg + \", \" +\n",
    "intentModelData[ALTITUDE_FT] +\", \"+\n",
    "intentModelData[GROUNDTRACK_DEG] +\", \"+\n",
    "intentModelData[GROUNDSPEED_KTS] +\", \"+\n",
    "intentModelData[VERTICALSPEED_FT_PER_MIN] +\", \"+\n",
    "winningVerticalModel.getLabel() +\", \"+\n",
    "winningHorizontalModel.getLabel() +\", \"+\n",
    "winningSpeedModel.getLabel();\n"
   ]
  },
  {
   "cell_type": "code",
   "execution_count": 319,
   "id": "4dbfadce-1597-4906-85e5-70eb0635bf14",
   "metadata": {},
   "outputs": [
    {
     "data": {
      "text/plain": [
       "'/Users/binshuaiwang/PycharmProjects/XAI_project/XAI_project/Python_Decision_Tree_and_Random_Forest'"
      ]
     },
     "execution_count": 319,
     "metadata": {},
     "output_type": "execute_result"
    }
   ],
   "source": [
    "import os\n",
    "cwd = os.getcwd()\n",
    "cwd"
   ]
  },
  {
   "cell_type": "code",
   "execution_count": 320,
   "id": "3c4fd9d6-af7f-4a45-8a81-7b32f62d14e2",
   "metadata": {},
   "outputs": [],
   "source": [
    "import pandas as pd \n",
    "# read text file into pandas DataFrame and \n",
    "# create header \n",
    "import os\n",
    "cwd = os.getcwd()\n",
    "file_name = \"All_nohold_1-71.dat\"\n",
    "file_path = cwd + \"/../data/nohold/\" + file_name\n",
    "df = pd.read_csv(file_path, sep=\",\", header=None)\n",
    "df.columns = [\"TIME_str\", \"TIME_sec\", \"latitude\", \"longitude\", \"ALTITUDE_FT\", \"GROUNDTRACK_DEG\", \\\n",
    "              \"GROUNDSPEED_KTS\", \"VERTICALSPEED_FT_PER_MIN\", \"Vertical_label\",\"Horizontal_label\", \"Speed_label\"]\n",
    "X_df = df[[ \"latitude\", \"longitude\", \"ALTITUDE_FT\", \"GROUNDTRACK_DEG\", \\\n",
    "              \"GROUNDSPEED_KTS\", \"VERTICALSPEED_FT_PER_MIN\"]]"
   ]
  },
  {
   "cell_type": "code",
   "execution_count": 321,
   "id": "0e709cba-acc1-469d-8217-391a6cc6593b",
   "metadata": {},
   "outputs": [],
   "source": [
    "word_map_to_num = set(list(Y_target))"
   ]
  },
  {
   "cell_type": "code",
   "execution_count": 322,
   "id": "faad7687-82b6-40a6-95bc-8eb1a692cc25",
   "metadata": {},
   "outputs": [
    {
     "data": {
      "text/plain": [
       "{'  Over 250 kts under 10000ft',\n",
       " ' Climb_Nominal',\n",
       " ' Climb_OffNominal',\n",
       " ' Descend_Nominal',\n",
       " ' MaintainCurrentAltitude',\n",
       " ' No Conclusion: Vertical'}"
      ]
     },
     "execution_count": 322,
     "metadata": {},
     "output_type": "execute_result"
    }
   ],
   "source": [
    "word_map_to_num"
   ]
  },
  {
   "cell_type": "code",
   "execution_count": 323,
   "id": "67b6fa5e-ae32-42d0-9f77-ea2c02b8a0d9",
   "metadata": {},
   "outputs": [
    {
     "data": {
      "text/plain": [
       "27009"
      ]
     },
     "execution_count": 323,
     "metadata": {},
     "output_type": "execute_result"
    }
   ],
   "source": [
    "Y_target = df[\"Vertical_label\"]\n",
    "n_sample = len(X_df)\n",
    "X_df = X_df.head(n_sample)\n",
    "Y_target = Y_target.head(n_sample)\n",
    "Y = []\n",
    "for y in Y_target:\n",
    "    for idx, s in enumerate(word_map_to_num):\n",
    "        if s == y:\n",
    "            Y.append(idx)\n",
    "Y = np.array(Y)\n",
    "len(Y)"
   ]
  },
  {
   "cell_type": "code",
   "execution_count": 324,
   "id": "e3726cd2-9f25-4a86-afac-c92dd69b02a2",
   "metadata": {},
   "outputs": [],
   "source": [
    "import pandas as pd \n",
    "# read text file into pandas DataFrame and \n",
    "# create header \n",
    "import os\n",
    "cwd = os.getcwd()\n",
    "\n",
    "# file_name_test = \"Traj_AAL80-11121269.dat\" # worst\n",
    "file_name_test = \"Traj_AAL173-11184786.dat\" # normal\n",
    "file_name_test = \"Traj_AAL1-10490130.dat\" # best\n",
    "\n",
    "file_path_test = cwd + \"/../data/nohold/\" + file_name_test\n",
    "\n",
    "\n",
    "# file_name_test = \"Traj_AAL1252-11172342POS_HOLD.dat\"\n",
    "\n",
    "# file_path_test = cwd + \"/../data/HOLD/\" + file_name_test\n",
    "\n",
    "\n",
    "df_test = pd.read_csv(file_path_test, sep=\",\", header=None)\n",
    "df_test.columns = [\"TIME_str\", \"TIME_sec\", \"latitude\", \"longitude\", \"ALTITUDE_FT\", \"GROUNDTRACK_DEG\", \\\n",
    "              \"GROUNDSPEED_KTS\", \"VERTICALSPEED_FT_PER_MIN\", \"Vertical_label\",\"Horizontal_label\", \"Speed_label\"]\n",
    "X_df_test = df_test[[ \"latitude\", \"longitude\", \"ALTITUDE_FT\", \"GROUNDTRACK_DEG\", \\\n",
    "              \"GROUNDSPEED_KTS\", \"VERTICALSPEED_FT_PER_MIN\"]]"
   ]
  },
  {
   "cell_type": "code",
   "execution_count": 325,
   "id": "47fd8dfb-3c52-431e-b223-2ccb5f1e438e",
   "metadata": {},
   "outputs": [
    {
     "data": {
      "text/plain": [
       "3515"
      ]
     },
     "execution_count": 325,
     "metadata": {},
     "output_type": "execute_result"
    }
   ],
   "source": [
    "len(X_df_test)"
   ]
  },
  {
   "cell_type": "code",
   "execution_count": 326,
   "id": "7af9570d-b187-441f-a55f-bdad3d36af33",
   "metadata": {
    "scrolled": true
   },
   "outputs": [
    {
     "data": {
      "text/plain": [
       "3515"
      ]
     },
     "execution_count": 326,
     "metadata": {},
     "output_type": "execute_result"
    }
   ],
   "source": [
    "Z_target = df_test[\"Vertical_label\"]\n",
    "n_sample = len(X_df_test)\n",
    "X_df_test = X_df_test.head(n_sample)\n",
    "Z_target = Z_target.head(n_sample)\n",
    "Z = []\n",
    "for z in Z_target:\n",
    "    for idx, s in enumerate(word_map_to_num):\n",
    "        if s == z:\n",
    "            Z.append(idx)\n",
    "Z = np.array(Z)\n",
    "len(Z)"
   ]
  },
  {
   "cell_type": "markdown",
   "id": "0e5b8eb3-5726-4b22-9685-583669609672",
   "metadata": {},
   "source": [
    "## target 1: Vertical_label"
   ]
  },
  {
   "cell_type": "markdown",
   "id": "0156167d-9a8f-4064-bff9-8113ccd3b93a",
   "metadata": {},
   "source": [
    "# Entropy"
   ]
  },
  {
   "cell_type": "code",
   "execution_count": 341,
   "id": "acb9d3ac-83b5-4e46-b902-6fc9234ba760",
   "metadata": {},
   "outputs": [
    {
     "name": "stdout",
     "output_type": "stream",
     "text": [
      "0.9902995297863675\n"
     ]
    }
   ],
   "source": [
    "# Entropy, small tree with train data\n",
    "\n",
    "criterion = \"entropy\"\n",
    "dtree_small_entropy = DecisionTreeClassifier(criterion=criterion, max_depth=5, min_samples_leaf=20)   # (random_state=1234)\n",
    "model=dtree_small_entropy.fit(X_df,Y)\n",
    "res = np.array(model.predict(X_df))\n",
    "diff = res - Y\n",
    "accuracy = 1/len(res) * sum([1 for x in diff if x == 0])\n",
    "print(accuracy)"
   ]
  },
  {
   "cell_type": "code",
   "execution_count": 328,
   "id": "efb07ad6-a06e-424d-a825-472b33b59ddc",
   "metadata": {},
   "outputs": [
    {
     "name": "stdout",
     "output_type": "stream",
     "text": [
      "0.9997778518271687\n"
     ]
    }
   ],
   "source": [
    "# Entropy, large tree with train data\n",
    "\n",
    "criterion = \"entropy\"\n",
    "dtree_large_n = DecisionTreeClassifier(criterion=criterion)   # (random_state=1234)\n",
    "model=dtree.fit(X_df,Y)\n",
    "res = np.array(model.predict(X_df))\n",
    "diff = res - Y\n",
    "accuracy = 1/len(res) * sum([1 for x in diff if x == 0])\n",
    "print(accuracy)"
   ]
  },
  {
   "cell_type": "code",
   "execution_count": 329,
   "id": "902cd5cd-70f3-4bac-b323-9cf7fdb09e60",
   "metadata": {},
   "outputs": [
    {
     "name": "stdout",
     "output_type": "stream",
     "text": [
      "0.9991465149359887\n"
     ]
    }
   ],
   "source": [
    "# Entropy, large tree with test data\n",
    "\n",
    "criterion = \"entropy\"\n",
    "dtree_large_entropy = DecisionTreeClassifier(criterion=criterion)   # (random_state=1234)\n",
    "model=dtree_large_entropy.fit(X_df,Y)\n",
    "res = np.array(model.predict(X_df_test))\n",
    "diff = res - Z\n",
    "accuracy = 1/len(res) * sum([1 for x in diff if x == 0])\n",
    "print(accuracy)"
   ]
  },
  {
   "cell_type": "code",
   "execution_count": 330,
   "id": "1846f950-c522-4d40-89dd-576cbd2ea340",
   "metadata": {},
   "outputs": [
    {
     "name": "stdout",
     "output_type": "stream",
     "text": [
      "0.9854907539118066\n"
     ]
    }
   ],
   "source": [
    "# Entropy, small tree with test data\n",
    "\n",
    "criterion = \"entropy\"\n",
    "dtree_small_entropy = DecisionTreeClassifier(criterion=criterion, max_depth=5, min_samples_leaf=20)   # (random_state=1234)\n",
    "model=dtree_small_entropy.fit(X_df,Y)\n",
    "res = np.array(model.predict(X_df_test))\n",
    "diff = res - Z\n",
    "accuracy = 1/len(res) * sum([1 for x in diff if x == 0])\n",
    "print(accuracy)"
   ]
  },
  {
   "cell_type": "code",
   "execution_count": 331,
   "id": "ebf95fe6-be73-4c8c-99e4-55fc27a15873",
   "metadata": {},
   "outputs": [
    {
     "name": "stdout",
     "output_type": "stream",
     "text": [
      "0.9988620199146516\n"
     ]
    }
   ],
   "source": [
    "criterion = \"entropy\"\n",
    "num_of_trees = 3\n",
    "rf_small_entropy = RandomForestClassifier(n_estimators=num_of_trees)\n",
    "model=rf_small_entropy.fit(X_df,Y)\n",
    "res = np.array(model.predict(X_df_test))\n",
    "diff = res - Z\n",
    "accuracy = 1/len(res) * sum([1 for x in diff if x == 0])\n",
    "print(accuracy)"
   ]
  },
  {
   "cell_type": "code",
   "execution_count": 342,
   "id": "fee7e669-7608-4714-8908-6140856a8cba",
   "metadata": {},
   "outputs": [
    {
     "name": "stdout",
     "output_type": "stream",
     "text": [
      "0.9846372688477952\n"
     ]
    }
   ],
   "source": [
    "criterion = \"entropy\"\n",
    "num_of_trees = 3\n",
    "rf_small_entropy = RandomForestClassifier(n_estimators=num_of_trees, max_depth=5, min_samples_leaf=20)\n",
    "model=rf_small_entropy.fit(X_df,Y)\n",
    "res = np.array(model.predict(X_df_test))\n",
    "diff = res - Z\n",
    "accuracy = 1/len(res) * sum([1 for x in diff if x == 0])\n",
    "print(accuracy)"
   ]
  },
  {
   "cell_type": "markdown",
   "id": "62f89306-46e6-44b1-8d2e-b91f39879bce",
   "metadata": {},
   "source": [
    "# Gini"
   ]
  },
  {
   "cell_type": "code",
   "execution_count": 333,
   "id": "1498c990-e1a7-4716-8dab-c7a9c9b1349b",
   "metadata": {},
   "outputs": [
    {
     "name": "stdout",
     "output_type": "stream",
     "text": [
      "0.9872264800622015\n"
     ]
    }
   ],
   "source": [
    "# Gini, small tree with train data\n",
    "\n",
    "criterion = \"gini\"\n",
    "dtree_small_gini = DecisionTreeClassifier(criterion=criterion, max_depth=5, min_samples_leaf=20)   # (random_state=1234)\n",
    "model=dtree_small_gini.fit(X_df,Y)\n",
    "res = np.array(model.predict(X_df))\n",
    "diff = res - Y\n",
    "accuracy = 1/len(res) * sum([1 for x in diff if x == 0])\n",
    "print(accuracy)"
   ]
  },
  {
   "cell_type": "code",
   "execution_count": 334,
   "id": "54d097c4-0d1c-4910-9a40-21fa0e51f2c1",
   "metadata": {},
   "outputs": [
    {
     "name": "stdout",
     "output_type": "stream",
     "text": [
      "0.9997778518271687\n"
     ]
    }
   ],
   "source": [
    "# Gini, large tree with train data\n",
    "criterion = \"gini\"\n",
    "dtree_large_gini = DecisionTreeClassifier(criterion=criterion)   # (random_state=1234)\n",
    "model=dtree_large_gini.fit(X_df,Y)\n",
    "res = np.array(model.predict(X_df))\n",
    "diff = res - Y\n",
    "accuracy = 1/len(res) * sum([1 for x in diff if x == 0])\n",
    "print(accuracy)"
   ]
  },
  {
   "cell_type": "code",
   "execution_count": 335,
   "id": "d78937ff-e516-4847-b3a5-937d4de184f8",
   "metadata": {},
   "outputs": [
    {
     "name": "stdout",
     "output_type": "stream",
     "text": [
      "0.9991465149359887\n"
     ]
    }
   ],
   "source": [
    "# Gini, large tree with test data\n",
    "\n",
    "criterion = \"gini\"\n",
    "dtree_large_gini = DecisionTreeClassifier(criterion=criterion)   # (random_state=1234)\n",
    "model=dtree_large_gini.fit(X_df,Y)\n",
    "res = np.array(model.predict(X_df_test))\n",
    "diff = res - Z\n",
    "accuracy = 1/len(res) * sum([1 for x in diff if x == 0])\n",
    "print(accuracy)"
   ]
  },
  {
   "cell_type": "code",
   "execution_count": 336,
   "id": "98fb9cd1-f042-4ee1-bdd6-749c4d0bddea",
   "metadata": {},
   "outputs": [
    {
     "name": "stdout",
     "output_type": "stream",
     "text": [
      "0.9763869132290186\n"
     ]
    }
   ],
   "source": [
    "# Gini, small tree with test data\n",
    "\n",
    "criterion = \"gini\"\n",
    "dtree_small_gini = DecisionTreeClassifier(criterion=criterion, max_depth=5, min_samples_leaf=20)   # (random_state=1234)\n",
    "model=dtree_small_gini.fit(X_df,Y)\n",
    "res = np.array(model.predict(X_df_test))\n",
    "diff = res - Z\n",
    "accuracy = 1/len(res) * sum([1 for x in diff if x == 0])\n",
    "print(accuracy)"
   ]
  },
  {
   "cell_type": "markdown",
   "id": "650402e3-d35a-49f9-8d72-e7c5a2488110",
   "metadata": {},
   "source": [
    "## Log_loss"
   ]
  },
  {
   "cell_type": "code",
   "execution_count": 337,
   "id": "a6048453-2574-4190-8e03-3f939939117c",
   "metadata": {},
   "outputs": [
    {
     "name": "stdout",
     "output_type": "stream",
     "text": [
      "0.9902995297863675\n"
     ]
    }
   ],
   "source": [
    "# Log_loss, small tree with train data\n",
    "\n",
    "criterion = \"log_loss\"\n",
    "dtree_small_Log_loss = DecisionTreeClassifier(criterion=criterion, max_depth=5, min_samples_leaf=20)   # (random_state=1234)\n",
    "model=dtree_small_Log_loss.fit(X_df,Y)\n",
    "res = np.array(model.predict(X_df))\n",
    "diff = res - Y\n",
    "accuracy = 1/len(res) * sum([1 for x in diff if x == 0])\n",
    "print(accuracy)"
   ]
  },
  {
   "cell_type": "code",
   "execution_count": 338,
   "id": "2d807c30-371e-4d62-80c1-677506711fb1",
   "metadata": {},
   "outputs": [
    {
     "name": "stdout",
     "output_type": "stream",
     "text": [
      "0.9997778518271687\n"
     ]
    }
   ],
   "source": [
    "# Log_loss, large tree with train data\n",
    "criterion = \"log_loss\"\n",
    "dtree_large_Log_loss = DecisionTreeClassifier(criterion=criterion)   # (random_state=1234)\n",
    "model=dtree_large_Log_loss.fit(X_df,Y)\n",
    "res = np.array(model.predict(X_df))\n",
    "diff = res - Y\n",
    "accuracy = 1/len(res) * sum([1 for x in diff if x == 0])\n",
    "print(accuracy)"
   ]
  },
  {
   "cell_type": "code",
   "execution_count": 339,
   "id": "f52d52c9-3964-460b-93c5-483b9f552ac9",
   "metadata": {},
   "outputs": [
    {
     "name": "stdout",
     "output_type": "stream",
     "text": [
      "0.9991465149359887\n"
     ]
    }
   ],
   "source": [
    "# Log_loss, large tree with test data\n",
    "criterion = \"log_loss\"\n",
    "dtree_large_Log_loss = DecisionTreeClassifier(criterion=criterion)   # (random_state=1234)\n",
    "model=dtree_large_Log_loss.fit(X_df,Y)\n",
    "res = np.array(model.predict(X_df_test))\n",
    "diff = res - Z\n",
    "accuracy = 1/len(res) * sum([1 for x in diff if x == 0])\n",
    "print(accuracy)"
   ]
  },
  {
   "cell_type": "code",
   "execution_count": 340,
   "id": "4e3d07ae-15ce-459b-b704-69242dce253e",
   "metadata": {},
   "outputs": [
    {
     "name": "stdout",
     "output_type": "stream",
     "text": [
      "0.9854907539118066\n"
     ]
    }
   ],
   "source": [
    "# Log_loss, small tree with test data\n",
    "\n",
    "criterion = \"log_loss\"\n",
    "dtree_small_Log_loss = DecisionTreeClassifier(criterion=criterion, max_depth=5, min_samples_leaf=20)   # (random_state=1234)\n",
    "model=dtree_small_Log_loss.fit(X_df,Y)\n",
    "res = np.array(model.predict(X_df_test))\n",
    "diff = res - Z\n",
    "accuracy = 1/len(res) * sum([1 for x in diff if x == 0])\n",
    "print(accuracy)"
   ]
  },
  {
   "cell_type": "code",
   "execution_count": null,
   "id": "ce95e728-76f8-4d69-a9b6-aa17b67988df",
   "metadata": {},
   "outputs": [],
   "source": []
  }
 ],
 "metadata": {
  "kernelspec": {
   "display_name": "Python 3 (ipykernel)",
   "language": "python",
   "name": "python3"
  },
  "language_info": {
   "codemirror_mode": {
    "name": "ipython",
    "version": 3
   },
   "file_extension": ".py",
   "mimetype": "text/x-python",
   "name": "python",
   "nbconvert_exporter": "python",
   "pygments_lexer": "ipython3",
   "version": "3.10.2"
  }
 },
 "nbformat": 4,
 "nbformat_minor": 5
}
