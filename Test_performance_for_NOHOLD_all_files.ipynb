{
 "cells": [
  {
   "cell_type": "code",
   "execution_count": 57,
   "id": "13f11a1f-12e3-47a0-8a0b-d42e3d1e6189",
   "metadata": {},
   "outputs": [],
   "source": [
    "# Importing necessary modules\n",
    "\n",
    "import sklearn.datasets as datasets\n",
    "from sklearn.tree import DecisionTreeClassifier\n",
    "from sklearn.ensemble import RandomForestClassifier\n",
    "\n",
    "from sklearn import tree\n",
    "from matplotlib import pyplot as plt\n",
    "import pandas as pd\n",
    "import numpy as np"
   ]
  },
  {
   "cell_type": "raw",
   "id": "15a93a83-0058-4154-8af2-7c621237ea52",
   "metadata": {},
   "source": [
    "eventtime.toString() +\", \" +\n",
    "eventtime.getTime() +\", \" +\n",
    "mapCoordinate.latitude_deg  + \", \" +\n",
    "mapCoordinate.longitude_deg + \", \" +\n",
    "intentModelData[ALTITUDE_FT] +\", \"+\n",
    "intentModelData[GROUNDTRACK_DEG] +\", \"+\n",
    "intentModelData[GROUNDSPEED_KTS] +\", \"+\n",
    "intentModelData[VERTICALSPEED_FT_PER_MIN] +\", \"+\n",
    "winningVerticalModel.getLabel() +\", \"+\n",
    "winningHorizontalModel.getLabel() +\", \"+\n",
    "winningSpeedModel.getLabel();\n"
   ]
  },
  {
   "cell_type": "code",
   "execution_count": 58,
   "id": "4dbfadce-1597-4906-85e5-70eb0635bf14",
   "metadata": {},
   "outputs": [
    {
     "data": {
      "text/plain": [
       "'/Users/binshuaiwang/PycharmProjects/XAI_project/XAI_project/Python_Decision_Tree_and_Random_Forest'"
      ]
     },
     "execution_count": 58,
     "metadata": {},
     "output_type": "execute_result"
    }
   ],
   "source": [
    "import os\n",
    "cwd = os.getcwd()\n",
    "cwd"
   ]
  },
  {
   "cell_type": "code",
   "execution_count": 59,
   "id": "d294b4e8-b76f-41ef-8e31-bca64391fba8",
   "metadata": {},
   "outputs": [],
   "source": [
    "import pandas as pd \n",
    "# read text file into pandas DataFrame and \n",
    "# create header \n",
    "import os\n",
    "cwd = os.getcwd()\n",
    "mypath = cwd + \"/../data/nohold/\"\n",
    "from os import listdir\n",
    "from os.path import isfile, join\n",
    "onlyfiles = [f for f in listdir(mypath) if isfile(join(mypath, f))]"
   ]
  },
  {
   "cell_type": "code",
   "execution_count": 60,
   "id": "25b74046-2ee5-48ae-9f93-8abb146a3d5d",
   "metadata": {},
   "outputs": [],
   "source": [
    "count = 0\n",
    "for file_name in onlyfiles:\n",
    "    if \"Traj\" in file_name:\n",
    "        if count == 0:\n",
    "            file_path = cwd + \"/../data/nohold/\" + file_name\n",
    "            df = pd.read_csv(file_path, sep=\",\", header=None)\n",
    "            df.columns = [\"TIME_str\", \"TIME_sec\", \"latitude\", \"longitude\", \"ALTITUDE_FT\", \"GROUNDTRACK_DEG\", \\\n",
    "                          \"GROUNDSPEED_KTS\", \"VERTICALSPEED_FT_PER_MIN\", \"Vertical_label\",\"Horizontal_label\", \"Speed_label\"]\n",
    "            X_df = df[[ \"latitude\", \"longitude\", \"ALTITUDE_FT\", \"GROUNDTRACK_DEG\", \\\n",
    "                          \"GROUNDSPEED_KTS\", \"VERTICALSPEED_FT_PER_MIN\"]]\n",
    "            Y_target = df[\"Vertical_label\"]\n",
    "        else:\n",
    "            file_path = cwd + \"/../data/nohold/\" + file_name\n",
    "            df_temp = pd.read_csv(file_path, sep=\",\", header=None)\n",
    "            df_temp.columns = [\"TIME_str\", \"TIME_sec\", \"latitude\", \"longitude\", \"ALTITUDE_FT\", \"GROUNDTRACK_DEG\", \\\n",
    "                          \"GROUNDSPEED_KTS\", \"VERTICALSPEED_FT_PER_MIN\", \"Vertical_label\",\"Horizontal_label\", \"Speed_label\"]\n",
    "            X_df_temp = df_temp[[ \"latitude\", \"longitude\", \"ALTITUDE_FT\", \"GROUNDTRACK_DEG\", \\\n",
    "                          \"GROUNDSPEED_KTS\", \"VERTICALSPEED_FT_PER_MIN\"]]\n",
    "            Y_target_temp = df_temp[\"Vertical_label\"]\n",
    "            X_df = pd.concat([X_df, X_df_temp])\n",
    "            Y_target = pd.concat([Y_target, Y_target_temp])\n",
    "        count +=1"
   ]
  },
  {
   "cell_type": "code",
   "execution_count": 96,
   "id": "9cacb55b-1e94-481e-b878-bbbf5e6406d8",
   "metadata": {},
   "outputs": [
    {
     "name": "stdout",
     "output_type": "stream",
     "text": [
      "category:\n"
     ]
    },
    {
     "data": {
      "text/plain": [
       "{'  Over 250 kts under 10000ft',\n",
       " ' Climb_Nominal',\n",
       " ' Climb_OffNominal',\n",
       " ' DefyingCardinalAltitudeRule',\n",
       " ' Descend_Nominal',\n",
       " ' MaintainCurrentAltitude',\n",
       " ' No Conclusion: Vertical'}"
      ]
     },
     "execution_count": 96,
     "metadata": {},
     "output_type": "execute_result"
    }
   ],
   "source": [
    "target_names =  list(set(list(Y_target)))\n",
    "word_map_to_num = set(list(Y_target))\n",
    "print(\"category:\")\n",
    "word_map_to_num\n"
   ]
  },
  {
   "cell_type": "code",
   "execution_count": 62,
   "id": "67b6fa5e-ae32-42d0-9f77-ea2c02b8a0d9",
   "metadata": {},
   "outputs": [
    {
     "name": "stdout",
     "output_type": "stream",
     "text": [
      "number of points: 143811\n"
     ]
    }
   ],
   "source": [
    "n_sample = len(X_df)\n",
    "print(\"number of points:\", n_sample)\n",
    "X_df = X_df.head(n_sample)\n",
    "Y_target = Y_target.head(n_sample)\n",
    "Y = []\n",
    "for y in Y_target:\n",
    "    for idx, s in enumerate(word_map_to_num):\n",
    "        if s == y:\n",
    "            Y.append(idx)\n",
    "Y = np.array(Y)"
   ]
  },
  {
   "cell_type": "code",
   "execution_count": 93,
   "id": "e3726cd2-9f25-4a86-afac-c92dd69b02a2",
   "metadata": {},
   "outputs": [],
   "source": [
    "import pandas as pd \n",
    "import dtreeviz\n",
    "from sklearn.tree import export_text\n",
    "# read text file into pandas DataFrame and \n",
    "# create header \n",
    "import os\n",
    "cwd = os.getcwd()\n",
    "\n",
    "# file_name_test = \"Traj_AAL80-11121269.dat\" # worst\n",
    "file_name_test = \"Traj_AAL173-11184786.dat\" # normal\n",
    "file_name_test = \"Traj_AAL1-10490130.dat\" # best\n",
    "\n",
    "file_path_test = cwd + \"/../data/nohold/\" + file_name_test\n",
    "\n",
    "\n",
    "# file_name_test = \"Traj_AAL1252-11172342POS_HOLD.dat\"\n",
    "\n",
    "# file_path_test = cwd + \"/../data/HOLD/\" + file_name_test\n",
    "\n",
    "\n",
    "df_test = pd.read_csv(file_path_test, sep=\",\", header=None)\n",
    "df_test.columns = [\"TIME_str\", \"TIME_sec\", \"latitude\", \"longitude\", \"ALTITUDE_FT\", \"GROUNDTRACK_DEG\", \\\n",
    "              \"GROUNDSPEED_KTS\", \"VERTICALSPEED_FT_PER_MIN\", \"Vertical_label\",\"Horizontal_label\", \"Speed_label\"]\n",
    "X_df_test = df_test[[ \"latitude\", \"longitude\", \"ALTITUDE_FT\", \"GROUNDTRACK_DEG\", \\\n",
    "              \"GROUNDSPEED_KTS\", \"VERTICALSPEED_FT_PER_MIN\"]]"
   ]
  },
  {
   "cell_type": "code",
   "execution_count": 64,
   "id": "47fd8dfb-3c52-431e-b223-2ccb5f1e438e",
   "metadata": {},
   "outputs": [
    {
     "name": "stdout",
     "output_type": "stream",
     "text": [
      "number of testing points: 3515\n"
     ]
    }
   ],
   "source": [
    "print(\"number of testing points:\", len(X_df_test))"
   ]
  },
  {
   "cell_type": "code",
   "execution_count": 65,
   "id": "7af9570d-b187-441f-a55f-bdad3d36af33",
   "metadata": {
    "scrolled": true
   },
   "outputs": [
    {
     "data": {
      "text/plain": [
       "3515"
      ]
     },
     "execution_count": 65,
     "metadata": {},
     "output_type": "execute_result"
    }
   ],
   "source": [
    "Z_target = df_test[\"Vertical_label\"]\n",
    "n_sample = len(X_df_test)\n",
    "X_df_test = X_df_test.head(n_sample)\n",
    "Z_target = Z_target.head(n_sample)\n",
    "Z = []\n",
    "for z in Z_target:\n",
    "    for idx, s in enumerate(word_map_to_num):\n",
    "        if s == z:\n",
    "            Z.append(idx)\n",
    "Z = np.array(Z)\n",
    "len(Z)"
   ]
  },
  {
   "cell_type": "markdown",
   "id": "0e5b8eb3-5726-4b22-9685-583669609672",
   "metadata": {},
   "source": [
    "## target 1: Vertical_label"
   ]
  },
  {
   "cell_type": "markdown",
   "id": "0156167d-9a8f-4064-bff9-8113ccd3b93a",
   "metadata": {},
   "source": [
    "# Entropy"
   ]
  },
  {
   "cell_type": "code",
   "execution_count": 105,
   "id": "ed6ff5d2-f643-45db-a2f5-e36bbf560346",
   "metadata": {},
   "outputs": [
    {
     "name": "stdout",
     "output_type": "stream",
     "text": [
      "0.8823038571458373\n"
     ]
    },
    {
     "name": "stderr",
     "output_type": "stream",
     "text": [
      "/Users/binshuaiwang/PycharmProjects/XAI_project/venv/lib/python3.10/site-packages/sklearn/base.py:465: UserWarning: X does not have valid feature names, but DecisionTreeClassifier was fitted with feature names\n"
     ]
    }
   ],
   "source": [
    "# Entropy, small tree with train data\n",
    "\n",
    "criterion = \"entropy\"\n",
    "max_depth = 3\n",
    "dtree_small_entropy = DecisionTreeClassifier(criterion=criterion, max_depth=max_depth, min_samples_leaf=20)   # (random_state=1234)\n",
    "model=dtree_small_entropy.fit(X_df,Y)\n",
    "res = np.array(model.predict(X_df))\n",
    "diff = res - Y\n",
    "accuracy = 1/len(res) * sum([1 for x in diff if x == 0])\n",
    "print(accuracy)\n",
    "viz_model = dtreeviz.model(dtree_small_entropy, X_df, Y,\n",
    "                target_name=\"target\",\n",
    "                feature_names=list(X_df.columns),\n",
    "                class_names=target_names)\n",
    "\n",
    "v = viz_model.view()     # render as SVG into internal object \n",
    "v                 # pop up window\n",
    "v.save(\"nohold_all\"+ \"_Vertical_label_\" + f\"max_depth:{max_depth}\"  + \".svg\")  # optionally save as svg"
   ]
  },
  {
   "cell_type": "code",
   "execution_count": 97,
   "id": "acb9d3ac-83b5-4e46-b902-6fc9234ba760",
   "metadata": {},
   "outputs": [
    {
     "name": "stdout",
     "output_type": "stream",
     "text": [
      "0.8923239529660457\n",
      "|--- VERTICALSPEED_FT_PER_MIN <= 160.00\n",
      "|   |--- VERTICALSPEED_FT_PER_MIN <= -160.00\n",
      "|   |   |--- ALTITUDE_FT <= 9985.50\n",
      "|   |   |   |--- GROUNDSPEED_KTS <= 280.50\n",
      "|   |   |   |   |--- VERTICALSPEED_FT_PER_MIN <= -608.00\n",
      "|   |   |   |   |   |--- class:  Descend_Nominal\n",
      "|   |   |   |   |--- VERTICALSPEED_FT_PER_MIN >  -608.00\n",
      "|   |   |   |   |   |--- class:  Descend_Nominal\n",
      "|   |   |   |--- GROUNDSPEED_KTS >  280.50\n",
      "|   |   |   |   |--- GROUNDSPEED_KTS <= 291.50\n",
      "|   |   |   |   |   |--- class:   Over 250 kts under 10000ft\n",
      "|   |   |   |   |--- GROUNDSPEED_KTS >  291.50\n",
      "|   |   |   |   |   |--- class:   Over 250 kts under 10000ft\n",
      "|   |   |--- ALTITUDE_FT >  9985.50\n",
      "|   |   |   |--- VERTICALSPEED_FT_PER_MIN <= -864.00\n",
      "|   |   |   |   |--- VERTICALSPEED_FT_PER_MIN <= -1440.00\n",
      "|   |   |   |   |   |--- class:  Descend_Nominal\n",
      "|   |   |   |   |--- VERTICALSPEED_FT_PER_MIN >  -1440.00\n",
      "|   |   |   |   |   |--- class:  Descend_Nominal\n",
      "|   |   |   |--- VERTICALSPEED_FT_PER_MIN >  -864.00\n",
      "|   |   |   |   |--- ALTITUDE_FT <= 29939.50\n",
      "|   |   |   |   |   |--- class:  Descend_Nominal\n",
      "|   |   |   |   |--- ALTITUDE_FT >  29939.50\n",
      "|   |   |   |   |   |--- class:  Descend_Nominal\n",
      "|   |--- VERTICALSPEED_FT_PER_MIN >  -160.00\n",
      "|   |   |--- ALTITUDE_FT <= 32476.50\n",
      "|   |   |   |--- ALTITUDE_FT <= 25997.50\n",
      "|   |   |   |   |--- latitude <= 40.50\n",
      "|   |   |   |   |   |--- class:  No Conclusion: Vertical\n",
      "|   |   |   |   |--- latitude >  40.50\n",
      "|   |   |   |   |   |--- class:  No Conclusion: Vertical\n",
      "|   |   |   |--- ALTITUDE_FT >  25997.50\n",
      "|   |   |   |   |--- GROUNDSPEED_KTS <= 459.50\n",
      "|   |   |   |   |   |--- class:  MaintainCurrentAltitude\n",
      "|   |   |   |   |--- GROUNDSPEED_KTS >  459.50\n",
      "|   |   |   |   |   |--- class:  No Conclusion: Vertical\n",
      "|   |   |--- ALTITUDE_FT >  32476.50\n",
      "|   |   |   |--- longitude <= -78.39\n",
      "|   |   |   |   |--- VERTICALSPEED_FT_PER_MIN <= 32.00\n",
      "|   |   |   |   |   |--- class:  MaintainCurrentAltitude\n",
      "|   |   |   |   |--- VERTICALSPEED_FT_PER_MIN >  32.00\n",
      "|   |   |   |   |   |--- class:  MaintainCurrentAltitude\n",
      "|   |   |   |--- longitude >  -78.39\n",
      "|   |   |   |   |--- GROUNDTRACK_DEG <= 245.50\n",
      "|   |   |   |   |   |--- class:  MaintainCurrentAltitude\n",
      "|   |   |   |   |--- GROUNDTRACK_DEG >  245.50\n",
      "|   |   |   |   |   |--- class:  MaintainCurrentAltitude\n",
      "|--- VERTICALSPEED_FT_PER_MIN >  160.00\n",
      "|   |--- ALTITUDE_FT <= 10193.50\n",
      "|   |   |--- GROUNDSPEED_KTS <= 282.50\n",
      "|   |   |   |--- VERTICALSPEED_FT_PER_MIN <= 2592.00\n",
      "|   |   |   |   |--- VERTICALSPEED_FT_PER_MIN <= 416.00\n",
      "|   |   |   |   |   |--- class:  No Conclusion: Vertical\n",
      "|   |   |   |   |--- VERTICALSPEED_FT_PER_MIN >  416.00\n",
      "|   |   |   |   |   |--- class:  Climb_Nominal\n",
      "|   |   |   |--- VERTICALSPEED_FT_PER_MIN >  2592.00\n",
      "|   |   |   |   |--- GROUNDSPEED_KTS <= 272.50\n",
      "|   |   |   |   |   |--- class:  Climb_OffNominal\n",
      "|   |   |   |   |--- GROUNDSPEED_KTS >  272.50\n",
      "|   |   |   |   |   |--- class:  Climb_Nominal\n",
      "|   |   |--- GROUNDSPEED_KTS >  282.50\n",
      "|   |   |   |--- GROUNDSPEED_KTS <= 292.50\n",
      "|   |   |   |   |--- ALTITUDE_FT <= 7549.00\n",
      "|   |   |   |   |   |--- class:   Over 250 kts under 10000ft\n",
      "|   |   |   |   |--- ALTITUDE_FT >  7549.00\n",
      "|   |   |   |   |   |--- class:  Climb_Nominal\n",
      "|   |   |   |--- GROUNDSPEED_KTS >  292.50\n",
      "|   |   |   |   |--- latitude <= 40.47\n",
      "|   |   |   |   |   |--- class:  Climb_Nominal\n",
      "|   |   |   |   |--- latitude >  40.47\n",
      "|   |   |   |   |   |--- class:   Over 250 kts under 10000ft\n",
      "|   |--- ALTITUDE_FT >  10193.50\n",
      "|   |   |--- VERTICALSPEED_FT_PER_MIN <= 4992.00\n",
      "|   |   |   |--- VERTICALSPEED_FT_PER_MIN <= 864.00\n",
      "|   |   |   |   |--- VERTICALSPEED_FT_PER_MIN <= 224.00\n",
      "|   |   |   |   |   |--- class:  Climb_Nominal\n",
      "|   |   |   |   |--- VERTICALSPEED_FT_PER_MIN >  224.00\n",
      "|   |   |   |   |   |--- class:  Climb_Nominal\n",
      "|   |   |   |--- VERTICALSPEED_FT_PER_MIN >  864.00\n",
      "|   |   |   |   |--- VERTICALSPEED_FT_PER_MIN <= 2784.00\n",
      "|   |   |   |   |   |--- class:  Climb_Nominal\n",
      "|   |   |   |   |--- VERTICALSPEED_FT_PER_MIN >  2784.00\n",
      "|   |   |   |   |   |--- class:  Climb_Nominal\n",
      "|   |   |--- VERTICALSPEED_FT_PER_MIN >  4992.00\n",
      "|   |   |   |--- ALTITUDE_FT <= 15238.50\n",
      "|   |   |   |   |--- class:  Climb_OffNominal\n",
      "|   |   |   |--- ALTITUDE_FT >  15238.50\n",
      "|   |   |   |   |--- class:  Climb_OffNominal\n",
      "\n"
     ]
    }
   ],
   "source": [
    "# Entropy, small tree with train data\n",
    "\n",
    "criterion = \"entropy\"\n",
    "dtree_small_entropy = DecisionTreeClassifier(criterion=criterion, max_depth=5, min_samples_leaf=20)   # (random_state=1234)\n",
    "model=dtree_small_entropy.fit(X_df,Y)\n",
    "res = np.array(model.predict(X_df))\n",
    "diff = res - Y\n",
    "accuracy = 1/len(res) * sum([1 for x in diff if x == 0])\n",
    "print(accuracy)\n",
    "r = export_text(dtree_small_entropy, feature_names=list(X_df.columns), class_names=target_names)\n",
    "print(r)"
   ]
  },
  {
   "cell_type": "code",
   "execution_count": 91,
   "id": "cf43acc1-570d-4898-912b-9aaf3942111d",
   "metadata": {},
   "outputs": [
    {
     "name": "stdout",
     "output_type": "stream",
     "text": [
      "0.967255634130908\n"
     ]
    }
   ],
   "source": [
    "criterion = \"entropy\"\n",
    "dtree_small_entropy = DecisionTreeClassifier(criterion=criterion, max_depth=10, min_samples_leaf=20)   # (random_state=1234)\n",
    "model=dtree_small_entropy.fit(X_df,Y)\n",
    "res = np.array(model.predict(X_df))\n",
    "diff = res - Y\n",
    "accuracy = 1/len(res) * sum([1 for x in diff if x == 0])\n",
    "print(accuracy)"
   ]
  },
  {
   "cell_type": "code",
   "execution_count": 67,
   "id": "efb07ad6-a06e-424d-a825-472b33b59ddc",
   "metadata": {},
   "outputs": [
    {
     "name": "stdout",
     "output_type": "stream",
     "text": [
      "0.9998122535828275\n"
     ]
    }
   ],
   "source": [
    "# Entropy, large tree with train data\n",
    "\n",
    "criterion = \"entropy\"\n",
    "dtree_large_n = DecisionTreeClassifier(criterion=criterion)   # (random_state=1234)\n",
    "model=dtree_large_n.fit(X_df,Y)\n",
    "res = np.array(model.predict(X_df))\n",
    "diff = res - Y\n",
    "accuracy = 1/len(res) * sum([1 for x in diff if x == 0])\n",
    "print(accuracy)"
   ]
  },
  {
   "cell_type": "code",
   "execution_count": 68,
   "id": "902cd5cd-70f3-4bac-b323-9cf7fdb09e60",
   "metadata": {},
   "outputs": [
    {
     "name": "stdout",
     "output_type": "stream",
     "text": [
      "0.9991465149359887\n"
     ]
    }
   ],
   "source": [
    "# Entropy, large tree with test data\n",
    "\n",
    "criterion = \"entropy\"\n",
    "dtree_large_entropy = DecisionTreeClassifier(criterion=criterion)   # (random_state=1234)\n",
    "model=dtree_large_entropy.fit(X_df,Y)\n",
    "res = np.array(model.predict(X_df_test))\n",
    "diff = res - Z\n",
    "accuracy = 1/len(res) * sum([1 for x in diff if x == 0])\n",
    "print(accuracy)"
   ]
  },
  {
   "cell_type": "code",
   "execution_count": 69,
   "id": "1846f950-c522-4d40-89dd-576cbd2ea340",
   "metadata": {},
   "outputs": [
    {
     "name": "stdout",
     "output_type": "stream",
     "text": [
      "0.8711237553342818\n"
     ]
    }
   ],
   "source": [
    "# Entropy, small tree with test data\n",
    "\n",
    "criterion = \"entropy\"\n",
    "dtree_small_entropy = DecisionTreeClassifier(criterion=criterion, max_depth=5, min_samples_leaf=20)   # (random_state=1234)\n",
    "model=dtree_small_entropy.fit(X_df,Y)\n",
    "res = np.array(model.predict(X_df_test))\n",
    "diff = res - Z\n",
    "accuracy = 1/len(res) * sum([1 for x in diff if x == 0])\n",
    "print(accuracy)"
   ]
  },
  {
   "cell_type": "code",
   "execution_count": 70,
   "id": "ebf95fe6-be73-4c8c-99e4-55fc27a15873",
   "metadata": {},
   "outputs": [
    {
     "name": "stdout",
     "output_type": "stream",
     "text": [
      "0.9985775248933144\n"
     ]
    }
   ],
   "source": [
    "criterion = \"entropy\"\n",
    "num_of_trees = 3\n",
    "rf_small_entropy = RandomForestClassifier(n_estimators=num_of_trees)\n",
    "model=rf_small_entropy.fit(X_df,Y)\n",
    "res = np.array(model.predict(X_df_test))\n",
    "diff = res - Z\n",
    "accuracy = 1/len(res) * sum([1 for x in diff if x == 0])\n",
    "print(accuracy)"
   ]
  },
  {
   "cell_type": "code",
   "execution_count": 89,
   "id": "fee7e669-7608-4714-8908-6140856a8cba",
   "metadata": {},
   "outputs": [
    {
     "name": "stdout",
     "output_type": "stream",
     "text": [
      "0.8352773826458038\n"
     ]
    }
   ],
   "source": [
    "criterion = \"entropy\"\n",
    "num_of_trees = 3\n",
    "rf_small_entropy = RandomForestClassifier(n_estimators=num_of_trees, max_depth=5, min_samples_leaf=20)\n",
    "model=rf_small_entropy.fit(X_df,Y)\n",
    "res = np.array(model.predict(X_df_test))\n",
    "diff = res - Z\n",
    "accuracy = 1/len(res) * sum([1 for x in diff if x == 0])\n",
    "print(accuracy)"
   ]
  },
  {
   "cell_type": "markdown",
   "id": "62f89306-46e6-44b1-8d2e-b91f39879bce",
   "metadata": {},
   "source": [
    "# Gini"
   ]
  },
  {
   "cell_type": "code",
   "execution_count": 72,
   "id": "1498c990-e1a7-4716-8dab-c7a9c9b1349b",
   "metadata": {},
   "outputs": [
    {
     "name": "stdout",
     "output_type": "stream",
     "text": [
      "0.9024692130643692\n"
     ]
    }
   ],
   "source": [
    "# Gini, small tree with train data\n",
    "\n",
    "criterion = \"gini\"\n",
    "dtree_small_gini = DecisionTreeClassifier(criterion=criterion, max_depth=5, min_samples_leaf=20)   # (random_state=1234)\n",
    "model=dtree_small_gini.fit(X_df,Y)\n",
    "res = np.array(model.predict(X_df))\n",
    "diff = res - Y\n",
    "accuracy = 1/len(res) * sum([1 for x in diff if x == 0])\n",
    "print(accuracy)"
   ]
  },
  {
   "cell_type": "code",
   "execution_count": 73,
   "id": "54d097c4-0d1c-4910-9a40-21fa0e51f2c1",
   "metadata": {},
   "outputs": [
    {
     "name": "stdout",
     "output_type": "stream",
     "text": [
      "0.9998122535828275\n"
     ]
    }
   ],
   "source": [
    "# Gini, large tree with train data\n",
    "criterion = \"gini\"\n",
    "dtree_large_gini = DecisionTreeClassifier(criterion=criterion)   # (random_state=1234)\n",
    "model=dtree_large_gini.fit(X_df,Y)\n",
    "res = np.array(model.predict(X_df))\n",
    "diff = res - Y\n",
    "accuracy = 1/len(res) * sum([1 for x in diff if x == 0])\n",
    "print(accuracy)"
   ]
  },
  {
   "cell_type": "code",
   "execution_count": 74,
   "id": "d78937ff-e516-4847-b3a5-937d4de184f8",
   "metadata": {},
   "outputs": [
    {
     "name": "stdout",
     "output_type": "stream",
     "text": [
      "0.9991465149359887\n"
     ]
    }
   ],
   "source": [
    "# Gini, large tree with test data\n",
    "\n",
    "criterion = \"gini\"\n",
    "dtree_large_gini = DecisionTreeClassifier(criterion=criterion)   # (random_state=1234)\n",
    "model=dtree_large_gini.fit(X_df,Y)\n",
    "res = np.array(model.predict(X_df_test))\n",
    "diff = res - Z\n",
    "accuracy = 1/len(res) * sum([1 for x in diff if x == 0])\n",
    "print(accuracy)"
   ]
  },
  {
   "cell_type": "code",
   "execution_count": 75,
   "id": "98fb9cd1-f042-4ee1-bdd6-749c4d0bddea",
   "metadata": {},
   "outputs": [
    {
     "name": "stdout",
     "output_type": "stream",
     "text": [
      "0.8597439544807967\n"
     ]
    }
   ],
   "source": [
    "# Gini, small tree with test data\n",
    "\n",
    "criterion = \"gini\"\n",
    "dtree_small_gini = DecisionTreeClassifier(criterion=criterion, max_depth=5, min_samples_leaf=20)   # (random_state=1234)\n",
    "model=dtree_small_gini.fit(X_df,Y)\n",
    "res = np.array(model.predict(X_df_test))\n",
    "diff = res - Z\n",
    "accuracy = 1/len(res) * sum([1 for x in diff if x == 0])\n",
    "print(accuracy)"
   ]
  },
  {
   "cell_type": "markdown",
   "id": "650402e3-d35a-49f9-8d72-e7c5a2488110",
   "metadata": {},
   "source": [
    "## Log_loss"
   ]
  },
  {
   "cell_type": "code",
   "execution_count": 76,
   "id": "a6048453-2574-4190-8e03-3f939939117c",
   "metadata": {},
   "outputs": [
    {
     "name": "stdout",
     "output_type": "stream",
     "text": [
      "0.8923239529660457\n"
     ]
    }
   ],
   "source": [
    "# Log_loss, small tree with train data\n",
    "\n",
    "criterion = \"log_loss\"\n",
    "dtree_small_Log_loss = DecisionTreeClassifier(criterion=criterion, max_depth=5, min_samples_leaf=20)   # (random_state=1234)\n",
    "model=dtree_small_Log_loss.fit(X_df,Y)\n",
    "res = np.array(model.predict(X_df))\n",
    "diff = res - Y\n",
    "accuracy = 1/len(res) * sum([1 for x in diff if x == 0])\n",
    "print(accuracy)"
   ]
  },
  {
   "cell_type": "code",
   "execution_count": 77,
   "id": "2d807c30-371e-4d62-80c1-677506711fb1",
   "metadata": {},
   "outputs": [
    {
     "name": "stdout",
     "output_type": "stream",
     "text": [
      "0.9998122535828275\n"
     ]
    }
   ],
   "source": [
    "# Log_loss, large tree with train data\n",
    "criterion = \"log_loss\"\n",
    "dtree_large_Log_loss = DecisionTreeClassifier(criterion=criterion)   # (random_state=1234)\n",
    "model=dtree_large_Log_loss.fit(X_df,Y)\n",
    "res = np.array(model.predict(X_df))\n",
    "diff = res - Y\n",
    "accuracy = 1/len(res) * sum([1 for x in diff if x == 0])\n",
    "print(accuracy)"
   ]
  },
  {
   "cell_type": "code",
   "execution_count": 78,
   "id": "f52d52c9-3964-460b-93c5-483b9f552ac9",
   "metadata": {},
   "outputs": [
    {
     "name": "stdout",
     "output_type": "stream",
     "text": [
      "0.9991465149359887\n"
     ]
    }
   ],
   "source": [
    "# Log_loss, large tree with test data\n",
    "criterion = \"log_loss\"\n",
    "dtree_large_Log_loss = DecisionTreeClassifier(criterion=criterion)   # (random_state=1234)\n",
    "model=dtree_large_Log_loss.fit(X_df,Y)\n",
    "res = np.array(model.predict(X_df_test))\n",
    "diff = res - Z\n",
    "accuracy = 1/len(res) * sum([1 for x in diff if x == 0])\n",
    "print(accuracy)"
   ]
  },
  {
   "cell_type": "code",
   "execution_count": 79,
   "id": "4e3d07ae-15ce-459b-b704-69242dce253e",
   "metadata": {},
   "outputs": [
    {
     "name": "stdout",
     "output_type": "stream",
     "text": [
      "0.8711237553342818\n"
     ]
    }
   ],
   "source": [
    "# Log_loss, small tree with test data\n",
    "\n",
    "criterion = \"log_loss\"\n",
    "dtree_small_Log_loss = DecisionTreeClassifier(criterion=criterion, max_depth=5, min_samples_leaf=20)   # (random_state=1234)\n",
    "model=dtree_small_Log_loss.fit(X_df,Y)\n",
    "res = np.array(model.predict(X_df_test))\n",
    "diff = res - Z\n",
    "accuracy = 1/len(res) * sum([1 for x in diff if x == 0])\n",
    "print(accuracy)"
   ]
  },
  {
   "cell_type": "code",
   "execution_count": null,
   "id": "ce95e728-76f8-4d69-a9b6-aa17b67988df",
   "metadata": {},
   "outputs": [],
   "source": []
  }
 ],
 "metadata": {
  "kernelspec": {
   "display_name": "Python 3 (ipykernel)",
   "language": "python",
   "name": "python3"
  },
  "language_info": {
   "codemirror_mode": {
    "name": "ipython",
    "version": 3
   },
   "file_extension": ".py",
   "mimetype": "text/x-python",
   "name": "python",
   "nbconvert_exporter": "python",
   "pygments_lexer": "ipython3",
   "version": "3.10.2"
  }
 },
 "nbformat": 4,
 "nbformat_minor": 5
}
