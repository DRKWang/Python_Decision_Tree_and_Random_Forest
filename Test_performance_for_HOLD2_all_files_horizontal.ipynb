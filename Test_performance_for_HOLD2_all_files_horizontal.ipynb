{
 "cells": [
  {
   "cell_type": "code",
   "execution_count": 89,
   "id": "13f11a1f-12e3-47a0-8a0b-d42e3d1e6189",
   "metadata": {},
   "outputs": [],
   "source": [
    "# Importing necessary modules\n",
    "\n",
    "import sklearn.datasets as datasets\n",
    "from sklearn.tree import DecisionTreeClassifier\n",
    "from sklearn.ensemble import RandomForestClassifier\n",
    "\n",
    "from sklearn import tree\n",
    "from matplotlib import pyplot as plt\n",
    "import pandas as pd\n",
    "import numpy as np"
   ]
  },
  {
   "cell_type": "raw",
   "id": "15a93a83-0058-4154-8af2-7c621237ea52",
   "metadata": {},
   "source": [
    "eventtime.toString() +\", \" +\n",
    "eventtime.getTime() +\", \" +\n",
    "mapCoordinate.latitude_deg  + \", \" +\n",
    "mapCoordinate.longitude_deg + \", \" +\n",
    "intentModelData[ALTITUDE_FT] +\", \"+\n",
    "intentModelData[GROUNDTRACK_DEG] +\", \"+\n",
    "intentModelData[GROUNDSPEED_KTS] +\", \"+\n",
    "intentModelData[VERTICALSPEED_FT_PER_MIN] +\", \"+\n",
    "winningVerticalModel.getLabel() +\", \"+\n",
    "winningHorizontalModel.getLabel() +\", \"+\n",
    "winningSpeedModel.getLabel();\n"
   ]
  },
  {
   "cell_type": "code",
   "execution_count": 90,
   "id": "d294b4e8-b76f-41ef-8e31-bca64391fba8",
   "metadata": {},
   "outputs": [],
   "source": [
    "import pandas as pd \n",
    "# read text file into pandas DataFrame and \n",
    "# create header \n",
    "import os\n",
    "Column_names = [\"TIME_str\", \"TIME_sec\", \"latitude\", \"longitude\", \"ALTITUDE_FT\", \"GROUNDTRACK_DEG\", \\\n",
    "            \"GROUNDSPEED_KTS\", \"VERTICALSPEED_FT_PER_MIN\", \"Vertical_label\",\\\n",
    "           \"Horizontal_label\", \"Speed_label\", \"Turn_rate_deg_per_sec\"]\n",
    "Target_category_name = \"Horizontal_label\"\n",
    "data_name = \"HOLD 2\"\n",
    "cwd = os.getcwd()\n",
    "mypath = cwd + f\"/../data/{data_name}/\"\n",
    "from os import listdir\n",
    "from os.path import isfile, join\n",
    "onlyfiles = [f for f in listdir(mypath) if isfile(join(mypath, f))]"
   ]
  },
  {
   "cell_type": "code",
   "execution_count": 91,
   "id": "25b74046-2ee5-48ae-9f93-8abb146a3d5d",
   "metadata": {},
   "outputs": [],
   "source": [
    "count = 0\n",
    "for file_name in onlyfiles:\n",
    "    if \"Traj\" in file_name:\n",
    "        if count == 0:\n",
    "            file_path = mypath + file_name\n",
    "            df = pd.read_csv(file_path, sep=\",\", header=None)\n",
    "            df.columns = Column_names\n",
    "            X_df = df[[ \"latitude\", \"longitude\", \"ALTITUDE_FT\", \"GROUNDTRACK_DEG\", \\\n",
    "                          \"GROUNDSPEED_KTS\", \"VERTICALSPEED_FT_PER_MIN\",  \"Turn_rate_deg_per_sec\"]]\n",
    "            Y_target = df[Target_category_name]\n",
    "        else:\n",
    "            file_path = mypath + file_name\n",
    "            df_temp = pd.read_csv(file_path, sep=\",\", header=None)\n",
    "            df_temp.columns = Column_names\n",
    "            \n",
    "            X_df_temp = df_temp[[ \"latitude\", \"longitude\", \"ALTITUDE_FT\", \"GROUNDTRACK_DEG\", \\\n",
    "                          \"GROUNDSPEED_KTS\", \"VERTICALSPEED_FT_PER_MIN\",  \"Turn_rate_deg_per_sec\"]]\n",
    "            Y_target_temp = df_temp[Target_category_name]\n",
    "            X_df = pd.concat([X_df, X_df_temp])\n",
    "            Y_target = pd.concat([Y_target, Y_target_temp])\n",
    "        count +=1"
   ]
  },
  {
   "cell_type": "code",
   "execution_count": 92,
   "id": "9cacb55b-1e94-481e-b878-bbbf5e6406d8",
   "metadata": {},
   "outputs": [
    {
     "name": "stdout",
     "output_type": "stream",
     "text": [
      "category:\n"
     ]
    },
    {
     "data": {
      "text/plain": [
       "{' Flying opposite established course',\n",
       " ' Hold Left Turn -1.5DegPerSec',\n",
       " ' Hold Left Turn -3.0DegPerSec',\n",
       " ' Hold Right Turn 1.5DegPerSec',\n",
       " ' Hold Right Turn 3.0DegPerSec',\n",
       " ' MaintainCurrentHeading',\n",
       " ' No Conclusion: Horizontal'}"
      ]
     },
     "execution_count": 92,
     "metadata": {},
     "output_type": "execute_result"
    }
   ],
   "source": [
    "target_names =  list(set(list(Y_target)))\n",
    "word_map_to_num = set(list(Y_target))\n",
    "print(\"category:\")\n",
    "word_map_to_num\n"
   ]
  },
  {
   "cell_type": "code",
   "execution_count": 93,
   "id": "67b6fa5e-ae32-42d0-9f77-ea2c02b8a0d9",
   "metadata": {},
   "outputs": [
    {
     "name": "stdout",
     "output_type": "stream",
     "text": [
      "number of points: 116214\n"
     ]
    }
   ],
   "source": [
    "n_sample = len(X_df)\n",
    "print(\"number of points:\", n_sample)\n",
    "X_df = X_df.head(n_sample)\n",
    "Y_target = Y_target.head(n_sample)\n",
    "Y = []\n",
    "for y in Y_target:\n",
    "    for idx, s in enumerate(word_map_to_num):\n",
    "        if s == y:\n",
    "            Y.append(idx)\n",
    "Y = np.array(Y)"
   ]
  },
  {
   "cell_type": "code",
   "execution_count": 94,
   "id": "e3726cd2-9f25-4a86-afac-c92dd69b02a2",
   "metadata": {},
   "outputs": [],
   "source": [
    "import pandas as pd \n",
    "import dtreeviz\n",
    "from sklearn.tree import export_text\n",
    "# read text file into pandas DataFrame and \n",
    "# create header \n",
    "import os\n",
    "cwd = os.getcwd()\n",
    "\n",
    "# file_name_test = \"Traj_AAL80-11121269.dat\" # worst\n",
    "file_name_test = \"Traj_AAL245-11147798_POS_HOLD.dat\" # normal\n",
    "\n",
    "file_path_test = mypath + file_name_test\n",
    "\n",
    "\n",
    "# file_name_test = \"Traj_AAL1252-11172342POS_HOLD.dat\"\n",
    "\n",
    "# file_path_test = cwd + \"/../data/HOLD/\" + file_name_test\n",
    "\n",
    "\n",
    "df_test = pd.read_csv(file_path_test, sep=\",\", header=None)\n",
    "df_test.columns = Column_names\n",
    "X_df_test = df_test[[ \"latitude\", \"longitude\", \"ALTITUDE_FT\", \"GROUNDTRACK_DEG\", \\\n",
    "                          \"GROUNDSPEED_KTS\", \"VERTICALSPEED_FT_PER_MIN\",  \"Turn_rate_deg_per_sec\"]]"
   ]
  },
  {
   "cell_type": "code",
   "execution_count": 95,
   "id": "47fd8dfb-3c52-431e-b223-2ccb5f1e438e",
   "metadata": {},
   "outputs": [
    {
     "name": "stdout",
     "output_type": "stream",
     "text": [
      "number of testing points: 3407\n"
     ]
    }
   ],
   "source": [
    "print(\"number of testing points:\", len(X_df_test))"
   ]
  },
  {
   "cell_type": "code",
   "execution_count": 96,
   "id": "7af9570d-b187-441f-a55f-bdad3d36af33",
   "metadata": {
    "scrolled": true
   },
   "outputs": [
    {
     "data": {
      "text/plain": [
       "3407"
      ]
     },
     "execution_count": 96,
     "metadata": {},
     "output_type": "execute_result"
    }
   ],
   "source": [
    "Z_target = df_test[Target_category_name]\n",
    "n_sample = len(X_df_test)\n",
    "X_df_test = X_df_test.head(n_sample)\n",
    "Z_target = Z_target.head(n_sample)\n",
    "Z = []\n",
    "for z in Z_target:\n",
    "    for idx, s in enumerate(word_map_to_num):\n",
    "        if s == z:\n",
    "            Z.append(idx)\n",
    "Z = np.array(Z)\n",
    "len(Z)"
   ]
  },
  {
   "cell_type": "markdown",
   "id": "0e5b8eb3-5726-4b22-9685-583669609672",
   "metadata": {},
   "source": [
    "## target 1: Horizontal_label"
   ]
  },
  {
   "cell_type": "markdown",
   "id": "0156167d-9a8f-4064-bff9-8113ccd3b93a",
   "metadata": {},
   "source": [
    "# Entropy"
   ]
  },
  {
   "cell_type": "code",
   "execution_count": 97,
   "id": "ed6ff5d2-f643-45db-a2f5-e36bbf560346",
   "metadata": {},
   "outputs": [
    {
     "name": "stdout",
     "output_type": "stream",
     "text": [
      "0.8065465434457122\n"
     ]
    },
    {
     "name": "stderr",
     "output_type": "stream",
     "text": [
      "/Users/binshuaiwang/PycharmProjects/XAI_project/venv/lib/python3.10/site-packages/sklearn/base.py:465: UserWarning: X does not have valid feature names, but DecisionTreeClassifier was fitted with feature names\n"
     ]
    }
   ],
   "source": [
    "# Entropy, small tree with train data\n",
    "\n",
    "criterion = \"entropy\"\n",
    "max_depth = 6\n",
    "dtree_small_entropy = DecisionTreeClassifier(criterion=criterion, max_depth=max_depth, min_samples_leaf=20)   # (random_state=1234)\n",
    "model=dtree_small_entropy.fit(X_df,Y)\n",
    "res = np.array(model.predict(X_df))\n",
    "diff = res - Y\n",
    "accuracy = 1/len(res) * sum([1 for x in diff if x == 0])\n",
    "print(accuracy)\n",
    "viz_model = dtreeviz.model(dtree_small_entropy, X_df, Y,\n",
    "                target_name=\"target\",\n",
    "                feature_names=list(X_df.columns),\n",
    "                class_names=target_names)\n",
    "\n",
    "v = viz_model.view()     # render as SVG into internal object \n",
    "v                 # pop up window\n",
    "v.save(f\"{data_name}_all_{Target_category_name}_{criterion}_\" + f\"max_depth:{max_depth}\"  + \".svg\")  # optionally save as svg"
   ]
  },
  {
   "cell_type": "code",
   "execution_count": 98,
   "id": "acb9d3ac-83b5-4e46-b902-6fc9234ba760",
   "metadata": {},
   "outputs": [
    {
     "name": "stdout",
     "output_type": "stream",
     "text": [
      "0.8065465434457122\n",
      "|--- GROUNDSPEED_KTS <= 336.50\n",
      "|   |--- GROUNDTRACK_DEG <= 159.50\n",
      "|   |   |--- ALTITUDE_FT <= 4964.50\n",
      "|   |   |   |--- longitude <= -77.46\n",
      "|   |   |   |   |--- VERTICALSPEED_FT_PER_MIN <= -800.00\n",
      "|   |   |   |   |   |--- GROUNDTRACK_DEG <= 105.50\n",
      "|   |   |   |   |   |   |--- class:  Flying opposite established course\n",
      "|   |   |   |   |   |--- GROUNDTRACK_DEG >  105.50\n",
      "|   |   |   |   |   |   |--- class:  Hold Left Turn -1.5DegPerSec\n",
      "|   |   |   |   |--- VERTICALSPEED_FT_PER_MIN >  -800.00\n",
      "|   |   |   |   |   |--- class:  Flying opposite established course\n",
      "|   |   |   |--- longitude >  -77.46\n",
      "|   |   |   |   |--- Turn_rate_deg_per_sec <= 0.50\n",
      "|   |   |   |   |   |--- GROUNDTRACK_DEG <= 127.50\n",
      "|   |   |   |   |   |   |--- class:  No Conclusion: Horizontal\n",
      "|   |   |   |   |   |--- GROUNDTRACK_DEG >  127.50\n",
      "|   |   |   |   |   |   |--- class:  No Conclusion: Horizontal\n",
      "|   |   |   |   |--- Turn_rate_deg_per_sec >  0.50\n",
      "|   |   |   |   |   |--- GROUNDTRACK_DEG <= 49.50\n",
      "|   |   |   |   |   |   |--- class:  No Conclusion: Horizontal\n",
      "|   |   |   |   |   |--- GROUNDTRACK_DEG >  49.50\n",
      "|   |   |   |   |   |   |--- class:  Hold Right Turn 1.5DegPerSec\n",
      "|   |   |--- ALTITUDE_FT >  4964.50\n",
      "|   |   |   |--- Turn_rate_deg_per_sec <= -0.50\n",
      "|   |   |   |   |--- ALTITUDE_FT <= 11829.00\n",
      "|   |   |   |   |   |--- GROUNDSPEED_KTS <= 280.50\n",
      "|   |   |   |   |   |   |--- class:  Hold Left Turn -1.5DegPerSec\n",
      "|   |   |   |   |   |--- GROUNDSPEED_KTS >  280.50\n",
      "|   |   |   |   |   |   |--- class:  No Conclusion: Horizontal\n",
      "|   |   |   |   |--- ALTITUDE_FT >  11829.00\n",
      "|   |   |   |   |   |--- longitude <= -72.76\n",
      "|   |   |   |   |   |   |--- class:  Hold Left Turn -1.5DegPerSec\n",
      "|   |   |   |   |   |--- longitude >  -72.76\n",
      "|   |   |   |   |   |   |--- class:  Hold Left Turn -1.5DegPerSec\n",
      "|   |   |   |--- Turn_rate_deg_per_sec >  -0.50\n",
      "|   |   |   |   |--- Turn_rate_deg_per_sec <= 0.50\n",
      "|   |   |   |   |   |--- ALTITUDE_FT <= 13960.50\n",
      "|   |   |   |   |   |   |--- class:  No Conclusion: Horizontal\n",
      "|   |   |   |   |   |--- ALTITUDE_FT >  13960.50\n",
      "|   |   |   |   |   |   |--- class:  MaintainCurrentHeading\n",
      "|   |   |   |   |--- Turn_rate_deg_per_sec >  0.50\n",
      "|   |   |   |   |   |--- ALTITUDE_FT <= 11152.00\n",
      "|   |   |   |   |   |   |--- class:  Hold Right Turn 1.5DegPerSec\n",
      "|   |   |   |   |   |--- ALTITUDE_FT >  11152.00\n",
      "|   |   |   |   |   |   |--- class:  Hold Right Turn 1.5DegPerSec\n",
      "|   |--- GROUNDTRACK_DEG >  159.50\n",
      "|   |   |--- Turn_rate_deg_per_sec <= -0.50\n",
      "|   |   |   |--- GROUNDTRACK_DEG <= 290.50\n",
      "|   |   |   |   |--- longitude <= -78.05\n",
      "|   |   |   |   |   |--- GROUNDTRACK_DEG <= 245.50\n",
      "|   |   |   |   |   |   |--- class:  Hold Left Turn -1.5DegPerSec\n",
      "|   |   |   |   |   |--- GROUNDTRACK_DEG >  245.50\n",
      "|   |   |   |   |   |   |--- class:  Flying opposite established course\n",
      "|   |   |   |   |--- longitude >  -78.05\n",
      "|   |   |   |   |   |--- longitude <= -72.94\n",
      "|   |   |   |   |   |   |--- class:  Flying opposite established course\n",
      "|   |   |   |   |   |--- longitude >  -72.94\n",
      "|   |   |   |   |   |   |--- class:  Hold Left Turn -1.5DegPerSec\n",
      "|   |   |   |--- GROUNDTRACK_DEG >  290.50\n",
      "|   |   |   |   |--- ALTITUDE_FT <= 11087.00\n",
      "|   |   |   |   |   |--- latitude <= 41.00\n",
      "|   |   |   |   |   |   |--- class:  Hold Left Turn -1.5DegPerSec\n",
      "|   |   |   |   |   |--- latitude >  41.00\n",
      "|   |   |   |   |   |   |--- class:  Hold Left Turn -1.5DegPerSec\n",
      "|   |   |   |   |--- ALTITUDE_FT >  11087.00\n",
      "|   |   |   |   |   |--- longitude <= -77.80\n",
      "|   |   |   |   |   |   |--- class:  Hold Left Turn -1.5DegPerSec\n",
      "|   |   |   |   |   |--- longitude >  -77.80\n",
      "|   |   |   |   |   |   |--- class:  Hold Left Turn -1.5DegPerSec\n",
      "|   |   |--- Turn_rate_deg_per_sec >  -0.50\n",
      "|   |   |   |--- Turn_rate_deg_per_sec <= 0.50\n",
      "|   |   |   |   |--- ALTITUDE_FT <= 4141.50\n",
      "|   |   |   |   |   |--- GROUNDTRACK_DEG <= 300.50\n",
      "|   |   |   |   |   |   |--- class:  Flying opposite established course\n",
      "|   |   |   |   |   |--- GROUNDTRACK_DEG >  300.50\n",
      "|   |   |   |   |   |   |--- class:  No Conclusion: Horizontal\n",
      "|   |   |   |   |--- ALTITUDE_FT >  4141.50\n",
      "|   |   |   |   |   |--- GROUNDTRACK_DEG <= 321.50\n",
      "|   |   |   |   |   |   |--- class:  Flying opposite established course\n",
      "|   |   |   |   |   |--- GROUNDTRACK_DEG >  321.50\n",
      "|   |   |   |   |   |   |--- class:  MaintainCurrentHeading\n",
      "|   |   |   |--- Turn_rate_deg_per_sec >  0.50\n",
      "|   |   |   |   |--- ALTITUDE_FT <= 5301.50\n",
      "|   |   |   |   |   |--- GROUNDTRACK_DEG <= 341.50\n",
      "|   |   |   |   |   |   |--- class:  Flying opposite established course\n",
      "|   |   |   |   |   |--- GROUNDTRACK_DEG >  341.50\n",
      "|   |   |   |   |   |   |--- class:  Hold Right Turn 1.5DegPerSec\n",
      "|   |   |   |   |--- ALTITUDE_FT >  5301.50\n",
      "|   |   |   |   |   |--- latitude <= 41.46\n",
      "|   |   |   |   |   |   |--- class:  Hold Right Turn 1.5DegPerSec\n",
      "|   |   |   |   |   |--- latitude >  41.46\n",
      "|   |   |   |   |   |   |--- class:  Hold Right Turn 1.5DegPerSec\n",
      "|--- GROUNDSPEED_KTS >  336.50\n",
      "|   |--- Turn_rate_deg_per_sec <= -0.50\n",
      "|   |   |--- GROUNDTRACK_DEG <= 168.50\n",
      "|   |   |   |--- longitude <= -75.84\n",
      "|   |   |   |   |--- latitude <= 38.39\n",
      "|   |   |   |   |   |--- GROUNDSPEED_KTS <= 417.50\n",
      "|   |   |   |   |   |   |--- class:  Hold Left Turn -1.5DegPerSec\n",
      "|   |   |   |   |   |--- GROUNDSPEED_KTS >  417.50\n",
      "|   |   |   |   |   |   |--- class:  MaintainCurrentHeading\n",
      "|   |   |   |   |--- latitude >  38.39\n",
      "|   |   |   |   |   |--- VERTICALSPEED_FT_PER_MIN <= 96.00\n",
      "|   |   |   |   |   |   |--- class:  Hold Left Turn -1.5DegPerSec\n",
      "|   |   |   |   |   |--- VERTICALSPEED_FT_PER_MIN >  96.00\n",
      "|   |   |   |   |   |   |--- class:  No Conclusion: Horizontal\n",
      "|   |   |   |--- longitude >  -75.84\n",
      "|   |   |   |   |--- ALTITUDE_FT <= 17537.00\n",
      "|   |   |   |   |   |--- latitude <= 39.64\n",
      "|   |   |   |   |   |   |--- class:  Hold Left Turn -1.5DegPerSec\n",
      "|   |   |   |   |   |--- latitude >  39.64\n",
      "|   |   |   |   |   |   |--- class:  Hold Left Turn -1.5DegPerSec\n",
      "|   |   |   |   |--- ALTITUDE_FT >  17537.00\n",
      "|   |   |   |   |   |--- ALTITUDE_FT <= 27913.00\n",
      "|   |   |   |   |   |   |--- class:  MaintainCurrentHeading\n",
      "|   |   |   |   |   |--- ALTITUDE_FT >  27913.00\n",
      "|   |   |   |   |   |   |--- class:  Flying opposite established course\n",
      "|   |   |--- GROUNDTRACK_DEG >  168.50\n",
      "|   |   |   |--- GROUNDTRACK_DEG <= 281.50\n",
      "|   |   |   |   |--- longitude <= -76.00\n",
      "|   |   |   |   |   |--- latitude <= 38.65\n",
      "|   |   |   |   |   |   |--- class:  Hold Left Turn -1.5DegPerSec\n",
      "|   |   |   |   |   |--- latitude >  38.65\n",
      "|   |   |   |   |   |   |--- class:  Flying opposite established course\n",
      "|   |   |   |   |--- longitude >  -76.00\n",
      "|   |   |   |   |   |--- longitude <= -73.65\n",
      "|   |   |   |   |   |   |--- class:  Hold Left Turn -1.5DegPerSec\n",
      "|   |   |   |   |   |--- longitude >  -73.65\n",
      "|   |   |   |   |   |   |--- class:  MaintainCurrentHeading\n",
      "|   |   |   |--- GROUNDTRACK_DEG >  281.50\n",
      "|   |   |   |   |--- longitude <= -73.71\n",
      "|   |   |   |   |   |--- longitude <= -76.64\n",
      "|   |   |   |   |   |   |--- class:  Hold Left Turn -1.5DegPerSec\n",
      "|   |   |   |   |   |--- longitude >  -76.64\n",
      "|   |   |   |   |   |   |--- class:  Hold Left Turn -1.5DegPerSec\n",
      "|   |   |   |   |--- longitude >  -73.71\n",
      "|   |   |   |   |   |--- latitude <= 40.94\n",
      "|   |   |   |   |   |   |--- class:  Hold Left Turn -1.5DegPerSec\n",
      "|   |   |   |   |   |--- latitude >  40.94\n",
      "|   |   |   |   |   |   |--- class:  Hold Left Turn -1.5DegPerSec\n",
      "|   |--- Turn_rate_deg_per_sec >  -0.50\n",
      "|   |   |--- GROUNDSPEED_KTS <= 412.50\n",
      "|   |   |   |--- Turn_rate_deg_per_sec <= 0.50\n",
      "|   |   |   |   |--- latitude <= 39.04\n",
      "|   |   |   |   |   |--- GROUNDTRACK_DEG <= 59.00\n",
      "|   |   |   |   |   |   |--- class:  MaintainCurrentHeading\n",
      "|   |   |   |   |   |--- GROUNDTRACK_DEG >  59.00\n",
      "|   |   |   |   |   |   |--- class:  MaintainCurrentHeading\n",
      "|   |   |   |   |--- latitude >  39.04\n",
      "|   |   |   |   |   |--- ALTITUDE_FT <= 9790.00\n",
      "|   |   |   |   |   |   |--- class:  No Conclusion: Horizontal\n",
      "|   |   |   |   |   |--- ALTITUDE_FT >  9790.00\n",
      "|   |   |   |   |   |   |--- class:  MaintainCurrentHeading\n",
      "|   |   |   |--- Turn_rate_deg_per_sec >  0.50\n",
      "|   |   |   |   |--- ALTITUDE_FT <= 27236.00\n",
      "|   |   |   |   |   |--- GROUNDTRACK_DEG <= 108.50\n",
      "|   |   |   |   |   |   |--- class:  MaintainCurrentHeading\n",
      "|   |   |   |   |   |--- GROUNDTRACK_DEG >  108.50\n",
      "|   |   |   |   |   |   |--- class:  Hold Right Turn 1.5DegPerSec\n",
      "|   |   |   |   |--- ALTITUDE_FT >  27236.00\n",
      "|   |   |   |   |   |--- longitude <= -76.33\n",
      "|   |   |   |   |   |   |--- class:  Flying opposite established course\n",
      "|   |   |   |   |   |--- longitude >  -76.33\n",
      "|   |   |   |   |   |   |--- class:  Hold Right Turn 1.5DegPerSec\n",
      "|   |   |--- GROUNDSPEED_KTS >  412.50\n",
      "|   |   |   |--- Turn_rate_deg_per_sec <= 0.50\n",
      "|   |   |   |   |--- latitude <= 37.29\n",
      "|   |   |   |   |   |--- GROUNDTRACK_DEG <= 36.50\n",
      "|   |   |   |   |   |   |--- class:  MaintainCurrentHeading\n",
      "|   |   |   |   |   |--- GROUNDTRACK_DEG >  36.50\n",
      "|   |   |   |   |   |   |--- class:  MaintainCurrentHeading\n",
      "|   |   |   |   |--- latitude >  37.29\n",
      "|   |   |   |   |   |--- latitude <= 39.08\n",
      "|   |   |   |   |   |   |--- class:  MaintainCurrentHeading\n",
      "|   |   |   |   |   |--- latitude >  39.08\n",
      "|   |   |   |   |   |   |--- class:  MaintainCurrentHeading\n",
      "|   |   |   |--- Turn_rate_deg_per_sec >  0.50\n",
      "|   |   |   |   |--- longitude <= -78.96\n",
      "|   |   |   |   |   |--- GROUNDSPEED_KTS <= 465.50\n",
      "|   |   |   |   |   |   |--- class:  Hold Right Turn 1.5DegPerSec\n",
      "|   |   |   |   |   |--- GROUNDSPEED_KTS >  465.50\n",
      "|   |   |   |   |   |   |--- class:  Hold Right Turn 1.5DegPerSec\n",
      "|   |   |   |   |--- longitude >  -78.96\n",
      "|   |   |   |   |   |--- GROUNDSPEED_KTS <= 432.50\n",
      "|   |   |   |   |   |   |--- class:  Hold Right Turn 1.5DegPerSec\n",
      "|   |   |   |   |   |--- GROUNDSPEED_KTS >  432.50\n",
      "|   |   |   |   |   |   |--- class:  MaintainCurrentHeading\n",
      "\n"
     ]
    }
   ],
   "source": [
    "# Entropy, small tree with train data\n",
    "\n",
    "criterion = \"entropy\"\n",
    "dtree_small_entropy = DecisionTreeClassifier(criterion=criterion, max_depth=max_depth, min_samples_leaf=20)   # (random_state=1234)\n",
    "model=dtree_small_entropy.fit(X_df,Y)\n",
    "res = np.array(model.predict(X_df))\n",
    "diff = res - Y\n",
    "accuracy = 1/len(res) * sum([1 for x in diff if x == 0])\n",
    "print(accuracy)\n",
    "r = export_text(dtree_small_entropy, feature_names=list(X_df.columns), class_names=target_names)\n",
    "print(r)"
   ]
  },
  {
   "cell_type": "code",
   "execution_count": 99,
   "id": "cf43acc1-570d-4898-912b-9aaf3942111d",
   "metadata": {},
   "outputs": [
    {
     "name": "stdout",
     "output_type": "stream",
     "text": [
      "0.9092105942485414\n"
     ]
    }
   ],
   "source": [
    "criterion = \"entropy\"\n",
    "dtree_small_entropy = DecisionTreeClassifier(criterion=criterion, max_depth=10, min_samples_leaf=20)   # (random_state=1234)\n",
    "model=dtree_small_entropy.fit(X_df,Y)\n",
    "res = np.array(model.predict(X_df))\n",
    "diff = res - Y\n",
    "accuracy = 1/len(res) * sum([1 for x in diff if x == 0])\n",
    "print(accuracy)"
   ]
  },
  {
   "cell_type": "code",
   "execution_count": 100,
   "id": "efb07ad6-a06e-424d-a825-472b33b59ddc",
   "metadata": {},
   "outputs": [
    {
     "name": "stdout",
     "output_type": "stream",
     "text": [
      "0.9986748584507891\n"
     ]
    }
   ],
   "source": [
    "# Entropy, large tree with train data\n",
    "\n",
    "criterion = \"entropy\"\n",
    "dtree_large_n = DecisionTreeClassifier(criterion=criterion)   # (random_state=1234)\n",
    "model=dtree_large_n.fit(X_df,Y)\n",
    "res = np.array(model.predict(X_df))\n",
    "diff = res - Y\n",
    "accuracy = 1/len(res) * sum([1 for x in diff if x == 0])\n",
    "print(accuracy)"
   ]
  },
  {
   "cell_type": "code",
   "execution_count": 101,
   "id": "902cd5cd-70f3-4bac-b323-9cf7fdb09e60",
   "metadata": {},
   "outputs": [
    {
     "name": "stdout",
     "output_type": "stream",
     "text": [
      "0.9999999999999999\n"
     ]
    }
   ],
   "source": [
    "# Entropy, large tree with test data\n",
    "\n",
    "criterion = \"entropy\"\n",
    "dtree_large_entropy = DecisionTreeClassifier(criterion=criterion)   # (random_state=1234)\n",
    "model=dtree_large_entropy.fit(X_df,Y)\n",
    "res = np.array(model.predict(X_df_test))\n",
    "diff = res - Z\n",
    "accuracy = 1/len(res) * sum([1 for x in diff if x == 0])\n",
    "print(accuracy)"
   ]
  },
  {
   "cell_type": "code",
   "execution_count": 102,
   "id": "1846f950-c522-4d40-89dd-576cbd2ea340",
   "metadata": {},
   "outputs": [
    {
     "name": "stdout",
     "output_type": "stream",
     "text": [
      "0.6289991194599354\n"
     ]
    }
   ],
   "source": [
    "# Entropy, small tree with test data\n",
    "\n",
    "criterion = \"entropy\"\n",
    "dtree_small_entropy = DecisionTreeClassifier(criterion=criterion, max_depth=5, min_samples_leaf=20)   # (random_state=1234)\n",
    "model=dtree_small_entropy.fit(X_df,Y)\n",
    "res = np.array(model.predict(X_df_test))\n",
    "diff = res - Z\n",
    "accuracy = 1/len(res) * sum([1 for x in diff if x == 0])\n",
    "print(accuracy)"
   ]
  },
  {
   "cell_type": "code",
   "execution_count": 103,
   "id": "ebf95fe6-be73-4c8c-99e4-55fc27a15873",
   "metadata": {},
   "outputs": [
    {
     "name": "stdout",
     "output_type": "stream",
     "text": [
      "0.9947167596125623\n"
     ]
    }
   ],
   "source": [
    "# Entropy, large rf with test data\n",
    "\n",
    "criterion = \"entropy\"\n",
    "num_of_trees = 3\n",
    "rf_small_entropy = RandomForestClassifier(n_estimators=num_of_trees)\n",
    "model=rf_small_entropy.fit(X_df,Y)\n",
    "res = np.array(model.predict(X_df_test))\n",
    "diff = res - Z\n",
    "accuracy = 1/len(res) * sum([1 for x in diff if x == 0])\n",
    "print(accuracy)"
   ]
  },
  {
   "cell_type": "code",
   "execution_count": 104,
   "id": "fee7e669-7608-4714-8908-6140856a8cba",
   "metadata": {},
   "outputs": [
    {
     "name": "stdout",
     "output_type": "stream",
     "text": [
      "0.785148224244203\n"
     ]
    }
   ],
   "source": [
    "# Entropy, small rf with test data\n",
    "\n",
    "criterion = \"entropy\"\n",
    "num_of_trees = 3\n",
    "rf_small_entropy = RandomForestClassifier(n_estimators=num_of_trees, max_depth=5, min_samples_leaf=20)\n",
    "model=rf_small_entropy.fit(X_df,Y)\n",
    "res = np.array(model.predict(X_df_test))\n",
    "diff = res - Z\n",
    "accuracy = 1/len(res) * sum([1 for x in diff if x == 0])\n",
    "print(accuracy)"
   ]
  },
  {
   "cell_type": "markdown",
   "id": "62f89306-46e6-44b1-8d2e-b91f39879bce",
   "metadata": {},
   "source": [
    "# Gini"
   ]
  },
  {
   "cell_type": "code",
   "execution_count": 105,
   "id": "1498c990-e1a7-4716-8dab-c7a9c9b1349b",
   "metadata": {},
   "outputs": [
    {
     "name": "stdout",
     "output_type": "stream",
     "text": [
      "0.7832447037362108\n"
     ]
    }
   ],
   "source": [
    "# Gini, small tree with train data\n",
    "\n",
    "criterion = \"gini\"\n",
    "dtree_small_gini = DecisionTreeClassifier(criterion=criterion, max_depth=5, min_samples_leaf=20)   # (random_state=1234)\n",
    "model=dtree_small_gini.fit(X_df,Y)\n",
    "res = np.array(model.predict(X_df))\n",
    "diff = res - Y\n",
    "accuracy = 1/len(res) * sum([1 for x in diff if x == 0])\n",
    "print(accuracy)"
   ]
  },
  {
   "cell_type": "code",
   "execution_count": 106,
   "id": "54d097c4-0d1c-4910-9a40-21fa0e51f2c1",
   "metadata": {},
   "outputs": [
    {
     "name": "stdout",
     "output_type": "stream",
     "text": [
      "0.9986748584507891\n"
     ]
    }
   ],
   "source": [
    "# Gini, large tree with train data\n",
    "criterion = \"gini\"\n",
    "dtree_large_gini = DecisionTreeClassifier(criterion=criterion)   # (random_state=1234)\n",
    "model=dtree_large_gini.fit(X_df,Y)\n",
    "res = np.array(model.predict(X_df))\n",
    "diff = res - Y\n",
    "accuracy = 1/len(res) * sum([1 for x in diff if x == 0])\n",
    "print(accuracy)"
   ]
  },
  {
   "cell_type": "code",
   "execution_count": 107,
   "id": "d78937ff-e516-4847-b3a5-937d4de184f8",
   "metadata": {},
   "outputs": [
    {
     "name": "stdout",
     "output_type": "stream",
     "text": [
      "0.9999999999999999\n"
     ]
    }
   ],
   "source": [
    "# Gini, large tree with test data\n",
    "\n",
    "criterion = \"gini\"\n",
    "dtree_large_gini = DecisionTreeClassifier(criterion=criterion)   # (random_state=1234)\n",
    "model=dtree_large_gini.fit(X_df,Y)\n",
    "res = np.array(model.predict(X_df_test))\n",
    "diff = res - Z\n",
    "accuracy = 1/len(res) * sum([1 for x in diff if x == 0])\n",
    "print(accuracy)"
   ]
  },
  {
   "cell_type": "code",
   "execution_count": 108,
   "id": "98fb9cd1-f042-4ee1-bdd6-749c4d0bddea",
   "metadata": {},
   "outputs": [
    {
     "name": "stdout",
     "output_type": "stream",
     "text": [
      "0.5195186380980334\n"
     ]
    }
   ],
   "source": [
    "# Gini, small tree with test data\n",
    "\n",
    "criterion = \"gini\"\n",
    "dtree_small_gini = DecisionTreeClassifier(criterion=criterion, max_depth=5, min_samples_leaf=20)   # (random_state=1234)\n",
    "model=dtree_small_gini.fit(X_df,Y)\n",
    "res = np.array(model.predict(X_df_test))\n",
    "diff = res - Z\n",
    "accuracy = 1/len(res) * sum([1 for x in diff if x == 0])\n",
    "print(accuracy)"
   ]
  },
  {
   "cell_type": "markdown",
   "id": "650402e3-d35a-49f9-8d72-e7c5a2488110",
   "metadata": {},
   "source": [
    "## Log_loss"
   ]
  },
  {
   "cell_type": "code",
   "execution_count": 109,
   "id": "a6048453-2574-4190-8e03-3f939939117c",
   "metadata": {},
   "outputs": [
    {
     "name": "stdout",
     "output_type": "stream",
     "text": [
      "0.7721014679814824\n"
     ]
    }
   ],
   "source": [
    "# Log_loss, small tree with train data\n",
    "\n",
    "criterion = \"log_loss\"\n",
    "dtree_small_Log_loss = DecisionTreeClassifier(criterion=criterion, max_depth=5, min_samples_leaf=20)   # (random_state=1234)\n",
    "model=dtree_small_Log_loss.fit(X_df,Y)\n",
    "res = np.array(model.predict(X_df))\n",
    "diff = res - Y\n",
    "accuracy = 1/len(res) * sum([1 for x in diff if x == 0])\n",
    "print(accuracy)"
   ]
  },
  {
   "cell_type": "code",
   "execution_count": 110,
   "id": "2d807c30-371e-4d62-80c1-677506711fb1",
   "metadata": {},
   "outputs": [
    {
     "name": "stdout",
     "output_type": "stream",
     "text": [
      "0.9986748584507891\n"
     ]
    }
   ],
   "source": [
    "# Log_loss, large tree with train data\n",
    "criterion = \"log_loss\"\n",
    "dtree_large_Log_loss = DecisionTreeClassifier(criterion=criterion)   # (random_state=1234)\n",
    "model=dtree_large_Log_loss.fit(X_df,Y)\n",
    "res = np.array(model.predict(X_df))\n",
    "diff = res - Y\n",
    "accuracy = 1/len(res) * sum([1 for x in diff if x == 0])\n",
    "print(accuracy)"
   ]
  },
  {
   "cell_type": "code",
   "execution_count": 111,
   "id": "f52d52c9-3964-460b-93c5-483b9f552ac9",
   "metadata": {},
   "outputs": [
    {
     "name": "stdout",
     "output_type": "stream",
     "text": [
      "0.9999999999999999\n"
     ]
    }
   ],
   "source": [
    "# Log_loss, large tree with test data\n",
    "criterion = \"log_loss\"\n",
    "dtree_large_Log_loss = DecisionTreeClassifier(criterion=criterion)   # (random_state=1234)\n",
    "model=dtree_large_Log_loss.fit(X_df,Y)\n",
    "res = np.array(model.predict(X_df_test))\n",
    "diff = res - Z\n",
    "accuracy = 1/len(res) * sum([1 for x in diff if x == 0])\n",
    "print(accuracy)"
   ]
  },
  {
   "cell_type": "code",
   "execution_count": 112,
   "id": "4e3d07ae-15ce-459b-b704-69242dce253e",
   "metadata": {},
   "outputs": [
    {
     "name": "stdout",
     "output_type": "stream",
     "text": [
      "0.6289991194599354\n"
     ]
    }
   ],
   "source": [
    "# Log_loss, small tree with test data\n",
    "\n",
    "criterion = \"log_loss\"\n",
    "dtree_small_Log_loss = DecisionTreeClassifier(criterion=criterion, max_depth=5, min_samples_leaf=20)   # (random_state=1234)\n",
    "model=dtree_small_Log_loss.fit(X_df,Y)\n",
    "res = np.array(model.predict(X_df_test))\n",
    "diff = res - Z\n",
    "accuracy = 1/len(res) * sum([1 for x in diff if x == 0])\n",
    "print(accuracy)"
   ]
  },
  {
   "cell_type": "code",
   "execution_count": null,
   "id": "ce95e728-76f8-4d69-a9b6-aa17b67988df",
   "metadata": {},
   "outputs": [],
   "source": []
  },
  {
   "cell_type": "code",
   "execution_count": null,
   "id": "8565be90-edda-420c-ad73-ca1db274223a",
   "metadata": {},
   "outputs": [],
   "source": []
  }
 ],
 "metadata": {
  "kernelspec": {
   "display_name": "Python 3 (ipykernel)",
   "language": "python",
   "name": "python3"
  },
  "language_info": {
   "codemirror_mode": {
    "name": "ipython",
    "version": 3
   },
   "file_extension": ".py",
   "mimetype": "text/x-python",
   "name": "python",
   "nbconvert_exporter": "python",
   "pygments_lexer": "ipython3",
   "version": "3.10.2"
  }
 },
 "nbformat": 4,
 "nbformat_minor": 5
}
