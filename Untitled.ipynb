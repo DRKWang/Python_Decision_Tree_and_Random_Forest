{
 "cells": [
  {
   "cell_type": "code",
   "execution_count": 1,
   "id": "c88eaa7f-f18d-447a-a0a7-93ea1a965e51",
   "metadata": {},
   "outputs": [
    {
     "ename": "ImportError",
     "evalue": "cannot import name 'dtreeviz' from 'dtreeviz.trees' (/Users/binshuaiwang/PycharmProjects/XAI_project/venv/lib/python3.10/site-packages/dtreeviz/trees.py)",
     "output_type": "error",
     "traceback": [
      "\u001b[0;31m---------------------------------------------------------------------------\u001b[0m",
      "\u001b[0;31mImportError\u001b[0m                               Traceback (most recent call last)",
      "Cell \u001b[0;32mIn[1], line 1\u001b[0m\n\u001b[0;32m----> 1\u001b[0m \u001b[38;5;28;01mfrom\u001b[39;00m \u001b[38;5;21;01mdtreeviz\u001b[39;00m\u001b[38;5;21;01m.\u001b[39;00m\u001b[38;5;21;01mtrees\u001b[39;00m \u001b[38;5;28;01mimport\u001b[39;00m dtreeviz \u001b[38;5;66;03m# remember to load the package\u001b[39;00m\n\u001b[1;32m      3\u001b[0m viz \u001b[38;5;241m=\u001b[39m dtreeviz(dtree, X_df, Y,\n\u001b[1;32m      4\u001b[0m                 target_name\u001b[38;5;241m=\u001b[39m\u001b[38;5;124m\"\u001b[39m\u001b[38;5;124mtarget\u001b[39m\u001b[38;5;124m\"\u001b[39m,\n\u001b[1;32m      5\u001b[0m                 feature_names\u001b[38;5;241m=\u001b[39miris\u001b[38;5;241m.\u001b[39mfeature_names,\n\u001b[1;32m      6\u001b[0m                 class_names\u001b[38;5;241m=\u001b[39m\u001b[38;5;28mlist\u001b[39m(iris\u001b[38;5;241m.\u001b[39mtarget_names))\n\u001b[1;32m      8\u001b[0m viz\n",
      "\u001b[0;31mImportError\u001b[0m: cannot import name 'dtreeviz' from 'dtreeviz.trees' (/Users/binshuaiwang/PycharmProjects/XAI_project/venv/lib/python3.10/site-packages/dtreeviz/trees.py)"
     ]
    }
   ],
   "source": [
    "from dtreeviz.trees import dtreeviz # remember to load the package\n",
    "\n",
    "viz = dtreeviz(dtree, X_df, Y,\n",
    "                target_name=\"target\",\n",
    "                feature_names=iris.feature_names,\n",
    "                class_names=list(iris.target_names))\n",
    "\n",
    "viz"
   ]
  },
  {
   "cell_type": "code",
   "execution_count": null,
   "id": "633871c3-4904-4f8e-b89e-ee4acc803718",
   "metadata": {},
   "outputs": [],
   "source": []
  }
 ],
 "metadata": {
  "kernelspec": {
   "display_name": "Python 3 (ipykernel)",
   "language": "python",
   "name": "python3"
  },
  "language_info": {
   "codemirror_mode": {
    "name": "ipython",
    "version": 3
   },
   "file_extension": ".py",
   "mimetype": "text/x-python",
   "name": "python",
   "nbconvert_exporter": "python",
   "pygments_lexer": "ipython3",
   "version": "3.10.2"
  }
 },
 "nbformat": 4,
 "nbformat_minor": 5
}
